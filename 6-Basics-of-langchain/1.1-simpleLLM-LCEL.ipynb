{
 "cells": [
  {
   "cell_type": "markdown",
   "id": "b300d688",
   "metadata": {},
   "source": [
    "Build a Simple LLM Application using LCEL\n",
    "\n",
    "LCEL = LangChain Expression Language"
   ]
  },
  {
   "cell_type": "code",
   "execution_count": 1,
   "id": "c0791c41",
   "metadata": {},
   "outputs": [],
   "source": [
    "### Open AI API Key and Open Source Models -- Llama3, Gemma2, mistral -- Groq\n",
    "\n",
    "import os\n",
    "from dotenv import load_dotenv\n",
    "load_dotenv()\n",
    "\n",
    "import openai\n",
    "openai.api_key = os.getenv(\"OPENAI_API_KEY\")\n",
    "\n",
    "groq_api_key = os.getenv(\"GROQ_API_KEY\")"
   ]
  },
  {
   "cell_type": "code",
   "execution_count": 2,
   "id": "9dab5002",
   "metadata": {},
   "outputs": [
    {
     "data": {
      "text/plain": [
       "ChatGroq(client=<groq.resources.chat.completions.Completions object at 0x00000263351D7160>, async_client=<groq.resources.chat.completions.AsyncCompletions object at 0x00000263351D4C10>, model_name='Gemma2-9b-It', model_kwargs={}, groq_api_key=SecretStr('**********'))"
      ]
     },
     "execution_count": 2,
     "metadata": {},
     "output_type": "execute_result"
    }
   ],
   "source": [
    "from langchain_groq import ChatGroq\n",
    "from langchain_openai import ChatOpenAI\n",
    "\n",
    "model = ChatGroq(model=\"Gemma2-9b-It\", groq_api_key=groq_api_key)\n",
    "model"
   ]
  },
  {
   "cell_type": "code",
   "execution_count": 5,
   "id": "51544a6d",
   "metadata": {},
   "outputs": [],
   "source": [
    "from langchain_core.messages import HumanMessage, SystemMessage\n",
    "\n",
    "messages = [\n",
    "    SystemMessage(content=\"Translate the following from english to japanese.\"),\n",
    "    HumanMessage(content=\"'Hello, how are you? Thankyou'\")\n",
    "]\n",
    "\n",
    "result = model.invoke(messages)\n"
   ]
  },
  {
   "cell_type": "code",
   "execution_count": 6,
   "id": "f23aa246",
   "metadata": {},
   "outputs": [
    {
     "data": {
      "text/plain": [
       "\"日本語にすると：\\n\\nこんにちは、お元気ですか？ ありがとうございます。\\n\\n(Konnichiwa, o-genki desu ka? Arigatou gozaimasu.)\\n\\n\\nHere's a breakdown:\\n\\n* **こんにちは (Konnichiwa):** Hello\\n* **お元気ですか (o-genki desu ka):** How are you? (polite)\\n* **ありがとうございます (Arigatou gozaimasu):** Thank you. (formal)\\n\""
      ]
     },
     "execution_count": 6,
     "metadata": {},
     "output_type": "execute_result"
    }
   ],
   "source": [
    "from langchain_core.output_parsers import StrOutputParser\n",
    "output_parser = StrOutputParser()\n",
    "\n",
    "output_parser.invoke(result)"
   ]
  },
  {
   "cell_type": "code",
   "execution_count": 7,
   "id": "b26d6c9e",
   "metadata": {},
   "outputs": [
    {
     "data": {
      "text/plain": [
       "'こんにちは、お元気ですか？ ありがとうございます。\\n\\n(Konnichiwa, ogenki desu ka? Arigatou gozaimasu.)\\n\\n\\n* こんにちは (Konnichiwa) - Hello\\n* お元気ですか (Ogenki desu ka?) - How are you?\\n* ありがとうございます (Arigatou gozaimasu) - Thank you \\n'"
      ]
     },
     "execution_count": 7,
     "metadata": {},
     "output_type": "execute_result"
    }
   ],
   "source": [
    "### Using LCEL we can chain the components together\n",
    "chain = model | output_parser\n",
    "chain.invoke(messages)"
   ]
  },
  {
   "cell_type": "code",
   "execution_count": 10,
   "id": "bf986db5",
   "metadata": {},
   "outputs": [
    {
     "data": {
      "text/plain": [
       "[SystemMessage(content='Translate the following from english to french', additional_kwargs={}, response_metadata={}),\n",
       " HumanMessage(content=\"'I want to eat bread'\", additional_kwargs={}, response_metadata={})]"
      ]
     },
     "execution_count": 10,
     "metadata": {},
     "output_type": "execute_result"
    }
   ],
   "source": [
    "### Prompt Templates\n",
    "from langchain_core.prompts import ChatPromptTemplate\n",
    "generic_template = \"Translate the following from english to {language}\"\n",
    "prompt = ChatPromptTemplate.from_messages(\n",
    "    [\n",
    "        (\"system\", generic_template),\n",
    "        (\"user\", \"{text}\"),\n",
    "    ]\n",
    ")\n",
    "\n",
    "result = prompt.invoke({\"text\": \"'I want to eat bread'\", \"language\": \"french\"})\n",
    "result.to_messages()"
   ]
  },
  {
   "cell_type": "code",
   "execution_count": 11,
   "id": "729f2403",
   "metadata": {},
   "outputs": [
    {
     "data": {
      "text/plain": [
       "'Je veux manger du pain. \\n'"
      ]
     },
     "execution_count": 11,
     "metadata": {},
     "output_type": "execute_result"
    }
   ],
   "source": [
    "chain = prompt | model | output_parser\n",
    "chain.invoke({\"text\": \"'I want to eat bread'\", \"language\": \"french\"})"
   ]
  }
 ],
 "metadata": {
  "kernelspec": {
   "display_name": "Python 3",
   "language": "python",
   "name": "python3"
  },
  "language_info": {
   "codemirror_mode": {
    "name": "ipython",
    "version": 3
   },
   "file_extension": ".py",
   "mimetype": "text/x-python",
   "name": "python",
   "nbconvert_exporter": "python",
   "pygments_lexer": "ipython3",
   "version": "3.10.18"
  }
 },
 "nbformat": 4,
 "nbformat_minor": 5
}
