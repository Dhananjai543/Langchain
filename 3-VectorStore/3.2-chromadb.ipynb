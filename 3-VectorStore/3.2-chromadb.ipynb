{
 "cells": [
  {
   "cell_type": "markdown",
   "id": "04237db8",
   "metadata": {},
   "source": [
    "Chroma DB"
   ]
  },
  {
   "cell_type": "code",
   "execution_count": null,
   "id": "f001216f",
   "metadata": {
    "vscode": {
     "languageId": "plaintext"
    }
   },
   "outputs": [],
   "source": []
  }
 ],
 "metadata": {
  "language_info": {
   "name": "python"
  }
 },
 "nbformat": 4,
 "nbformat_minor": 5
}
