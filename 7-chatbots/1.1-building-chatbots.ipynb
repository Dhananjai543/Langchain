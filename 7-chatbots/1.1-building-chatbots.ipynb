{
 "cells": [
  {
   "cell_type": "code",
   "execution_count": 3,
   "id": "bb799af4",
   "metadata": {},
   "outputs": [],
   "source": [
    "import os\n",
    "from dotenv import load_dotenv\n",
    "load_dotenv()\n",
    "\n",
    "groq_api_key = os.getenv(\"GROQ_API_KEY\")"
   ]
  },
  {
   "cell_type": "code",
   "execution_count": 4,
   "id": "4ddedf42",
   "metadata": {},
   "outputs": [
    {
     "data": {
      "text/plain": [
       "ChatGroq(client=<groq.resources.chat.completions.Completions object at 0x000001FEAF7701F0>, async_client=<groq.resources.chat.completions.AsyncCompletions object at 0x000001FEAF50BB80>, model_name='gemma2-9b-it', model_kwargs={}, groq_api_key=SecretStr('**********'))"
      ]
     },
     "execution_count": 4,
     "metadata": {},
     "output_type": "execute_result"
    }
   ],
   "source": [
    "from langchain_groq import ChatGroq\n",
    "model = ChatGroq(model=\"gemma2-9b-it\", api_key=groq_api_key)\n",
    "model"
   ]
  },
  {
   "cell_type": "code",
   "execution_count": 5,
   "id": "938328ec",
   "metadata": {},
   "outputs": [
    {
     "data": {
      "text/plain": [
       "AIMessage(content=\"It's nice to meet you, Dhananjai!  \\n\\nThat's awesome that you're an AI Engineer. It's a really exciting field right now. \\n\\nIs there anything specific you'd like to talk about related to AI engineering? Perhaps you have a project you're working on, a question about a particular technology, or just want to discuss the latest advancements?  \\n\\nI'm happy to chat about whatever's on your mind!\\n\", additional_kwargs={}, response_metadata={'token_usage': {'completion_tokens': 100, 'prompt_tokens': 25, 'total_tokens': 125, 'completion_time': 0.181818182, 'prompt_time': 0.001405149, 'queue_time': 0.2563444, 'total_time': 0.183223331}, 'model_name': 'gemma2-9b-it', 'system_fingerprint': 'fp_10c08bf97d', 'service_tier': 'on_demand', 'finish_reason': 'stop', 'logprobs': None}, id='run--f976beb4-e90c-4798-b991-785fe8115f06-0', usage_metadata={'input_tokens': 25, 'output_tokens': 100, 'total_tokens': 125})"
      ]
     },
     "execution_count": 5,
     "metadata": {},
     "output_type": "execute_result"
    }
   ],
   "source": [
    "from langchain_core.messages import HumanMessage, SystemMessage\n",
    "model.invoke([\n",
    "    HumanMessage(content=\"Hi, my name is Dhananjai. I'm an AI Engineer?\")\n",
    "])"
   ]
  },
  {
   "cell_type": "code",
   "execution_count": 6,
   "id": "90bfa7ab",
   "metadata": {},
   "outputs": [
    {
     "data": {
      "text/plain": [
       "AIMessage(content=\"You said your name is Dhananjai and that you are an AI Engineer. \\n\\nIs there anything else you'd like to tell me about yourself or your work? 😊  \\n\", additional_kwargs={}, response_metadata={'token_usage': {'completion_tokens': 40, 'prompt_tokens': 142, 'total_tokens': 182, 'completion_time': 0.072727273, 'prompt_time': 0.003534537, 'queue_time': 0.251639062, 'total_time': 0.07626181}, 'model_name': 'gemma2-9b-it', 'system_fingerprint': 'fp_10c08bf97d', 'service_tier': 'on_demand', 'finish_reason': 'stop', 'logprobs': None}, id='run--ec154dfd-b8de-490e-a1d2-18e4f949cee2-0', usage_metadata={'input_tokens': 142, 'output_tokens': 40, 'total_tokens': 182})"
      ]
     },
     "execution_count": 6,
     "metadata": {},
     "output_type": "execute_result"
    }
   ],
   "source": [
    "from langchain_core.messages import AIMessage\n",
    "model.invoke([\n",
    "    HumanMessage(content=\"Hi, my name is Dhananjai. I'm an AI Engineer\"),\n",
    "    AIMessage(content=\"It's nice to meet you, Dhananjai!  \\n\\nThat's awesome that you're an AI Engineer. It's a really exciting field right now. \\n\\nIs there anything specific you'd like to talk about related to AI engineering? Perhaps you have a project you're working on, a question about a particular technology, or just want to discuss the latest advancements?  \\n\\nI'm happy to chat about whatever's on your mind!\"),\n",
    "    HumanMessage(content=\"What's my name and what do I do?\")\n",
    "])\n",
    "\n"
   ]
  },
  {
   "cell_type": "code",
   "execution_count": 9,
   "id": "cdbebbfb",
   "metadata": {},
   "outputs": [],
   "source": [
    "### Message History\n",
    "from langchain_community.chat_message_histories import ChatMessageHistory\n",
    "from langchain_core.chat_history import BaseChatMessageHistory\n",
    "from langchain_core.runnables import RunnableWithMessageHistory\n",
    "\n",
    "store={}\n",
    "\n",
    "def get_session_history(session_id: str) -> BaseChatMessageHistory:\n",
    "    if session_id not in store:\n",
    "        store[session_id] = ChatMessageHistory()\n",
    "    return store[session_id]\n",
    "\n",
    "with_message_history = RunnableWithMessageHistory(model, get_session_history)"
   ]
  },
  {
   "cell_type": "code",
   "execution_count": 8,
   "id": "78c94d95",
   "metadata": {},
   "outputs": [],
   "source": [
    "config = {\"configurable\": {\"session_id\": \"chat1\"}}"
   ]
  },
  {
   "cell_type": "code",
   "execution_count": 11,
   "id": "fd23e731",
   "metadata": {},
   "outputs": [
    {
     "data": {
      "text/plain": [
       "\"Hi Dhananjai, it's nice to meet you!\\n\\nThat's awesome! AI Engineering is a really exciting field.  What kind of projects are you working on these days?  Do you have a favorite area of AI that you specialize in?\\n\""
      ]
     },
     "execution_count": 11,
     "metadata": {},
     "output_type": "execute_result"
    }
   ],
   "source": [
    "response = with_message_history.invoke([\n",
    "    HumanMessage(content=\"Hi, my name is Dhananjai. I'm an AI Engineer\")\n",
    "], config=config)\n",
    "\n",
    "response.content\n",
    "\n"
   ]
  },
  {
   "cell_type": "code",
   "execution_count": 12,
   "id": "e9d7466e",
   "metadata": {},
   "outputs": [
    {
     "data": {
      "text/plain": [
       "AIMessage(content=\"You are Dhananjai, and you are an AI Engineer!  😊 \\n\\nIs there anything else you'd like to tell me about yourself or your work?  I'm always eager to learn more. \\n\", additional_kwargs={}, response_metadata={'token_usage': {'completion_tokens': 48, 'prompt_tokens': 184, 'total_tokens': 232, 'completion_time': 0.087272727, 'prompt_time': 0.004419718, 'queue_time': 0.249278041, 'total_time': 0.091692445}, 'model_name': 'gemma2-9b-it', 'system_fingerprint': 'fp_10c08bf97d', 'service_tier': 'on_demand', 'finish_reason': 'stop', 'logprobs': None}, id='run--3fb3699e-2042-4f36-a581-c090a9e9abbd-0', usage_metadata={'input_tokens': 184, 'output_tokens': 48, 'total_tokens': 232})"
      ]
     },
     "execution_count": 12,
     "metadata": {},
     "output_type": "execute_result"
    }
   ],
   "source": [
    "with_message_history.invoke([\n",
    "    HumanMessage(content=\"What's my name and what do I do?\")\n",
    "], config=config)\n",
    "\n"
   ]
  },
  {
   "cell_type": "code",
   "execution_count": 13,
   "id": "a9d8779d",
   "metadata": {},
   "outputs": [
    {
     "data": {
      "text/plain": [
       "AIMessage(content=\"As a large language model, I have no memory of past conversations and do not know your name or what you do.\\n\\nIf you'd like to tell me, I'm happy to learn!\\n\", additional_kwargs={}, response_metadata={'token_usage': {'completion_tokens': 44, 'prompt_tokens': 20, 'total_tokens': 64, 'completion_time': 0.08, 'prompt_time': 0.00133686, 'queue_time': 0.25134438, 'total_time': 0.08133686}, 'model_name': 'gemma2-9b-it', 'system_fingerprint': 'fp_10c08bf97d', 'service_tier': 'on_demand', 'finish_reason': 'stop', 'logprobs': None}, id='run--3d7dd836-cc6b-400d-b34f-a606e6713f7e-0', usage_metadata={'input_tokens': 20, 'output_tokens': 44, 'total_tokens': 64})"
      ]
     },
     "execution_count": 13,
     "metadata": {},
     "output_type": "execute_result"
    }
   ],
   "source": [
    "# Change the session id\n",
    "config = {\"configurable\": {\"session_id\": \"chat2\"}}\n",
    "with_message_history.invoke([\n",
    "    HumanMessage(content=\"What's my name and what do I do?\")\n",
    "], config=config)"
   ]
  }
 ],
 "metadata": {
  "kernelspec": {
   "display_name": "Python 3",
   "language": "python",
   "name": "python3"
  },
  "language_info": {
   "codemirror_mode": {
    "name": "ipython",
    "version": 3
   },
   "file_extension": ".py",
   "mimetype": "text/x-python",
   "name": "python",
   "nbconvert_exporter": "python",
   "pygments_lexer": "ipython3",
   "version": "3.10.18"
  }
 },
 "nbformat": 4,
 "nbformat_minor": 5
}
