{
 "cells": [
  {
   "cell_type": "markdown",
   "id": "347f321e",
   "metadata": {},
   "source": [
    "Documents\n",
    "\n",
    "Langchain implements a Document abstraction, which is intended to represent a unit of text and associated metadata. It has two attributes:\n",
    "\n",
    "- page_content: a string representing the content\n",
    "- metadata: a dict containing arbitrary metadata. The metadata attribute can capture information about the source of the document, its relationship to other documents, and other information. Note than an individual Document object often represents a chunk of a larger document"
   ]
  },
  {
   "cell_type": "code",
   "execution_count": 4,
   "id": "ac66777a",
   "metadata": {},
   "outputs": [],
   "source": [
    "from langchain_core.documents import Document\n",
    "\n",
    "documents = [\n",
    "    Document(page_content=\"Dogs are loyal and friendly animals, often kept as pets.\", metadata={\"source\": \"mammal-pets-doc\"}),\n",
    "    Document(page_content=\"Cats are independent and curious creatures, popular as house pets.\", metadata={\"source\": \"mammal-pets-doc\"}),\n",
    "    Document(page_content=\"Fish are aquatic animals that come in many varieties and are common in home aquariums.\", metadata={\"source\": \"fish-pets-doc\"}),\n",
    "    Document(page_content=\"Parrots are colorful birds known for their ability to mimic sounds and words.\", metadata={\"source\": \"bird-pets-doc\"}),\n",
    "    Document(page_content=\"Hamsters are small rodents that are easy to care for and often kept as pets.\", metadata={\"source\": \"rodent-pets-doc\"}),\n",
    "    Document(page_content=\"Turtles are reptiles that can live both in water and on land, and are kept as exotic pets.\", metadata={\"source\": \"reptile-pets-doc\"}),\n",
    "    Document(page_content=\"Rabbits are gentle mammals that enjoy social interaction and are popular pets.\", metadata={\"source\": \"mammal-pets-doc\"}),\n",
    "    Document(page_content=\"Goldfish are a type of freshwater fish, known for their bright colors and easy maintenance.\", metadata={\"source\": \"fish-pets-doc\"}),\n",
    "]"
   ]
  },
  {
   "cell_type": "code",
   "execution_count": 20,
   "id": "138fe004",
   "metadata": {},
   "outputs": [],
   "source": [
    "import os\n",
    "from dotenv import load_dotenv\n",
    "from langchain_groq import ChatGroq\n",
    "\n",
    "load_dotenv()\n",
    "\n",
    "groq_api_key = os.getenv(\"GROQ_API_KEY\")\n",
    "\n",
    "os.environ[\"HF_TOKEN\"] = os.getenv(\"HF_TOKEN\")\n",
    "\n",
    "llm = ChatGroq(model=\"gemma2-9b-it\", groq_api_key=groq_api_key)"
   ]
  },
  {
   "cell_type": "code",
   "execution_count": 2,
   "id": "66d3e298",
   "metadata": {},
   "outputs": [],
   "source": [
    "from langchain_huggingface import HuggingFaceEmbeddings\n",
    "embeddings = HuggingFaceEmbeddings(model_name=\"sentence-transformers/all-MiniLM-L6-v2\")"
   ]
  },
  {
   "cell_type": "code",
   "execution_count": 5,
   "id": "550cb59d",
   "metadata": {},
   "outputs": [],
   "source": [
    "# Vector Stores\n",
    "from langchain_chroma import Chroma\n",
    "\n",
    "vectorstore = Chroma.from_documents(documents, embeddings)\n"
   ]
  },
  {
   "cell_type": "code",
   "execution_count": 7,
   "id": "819fc640",
   "metadata": {},
   "outputs": [
    {
     "data": {
      "text/plain": [
       "[Document(id='06bd31e1-0f89-4d39-85dd-5eef3508e084', metadata={'source': 'fish-pets-doc'}, page_content='Fish are aquatic animals that come in many varieties and are common in home aquariums.'),\n",
       " Document(id='a321d95a-d04b-4544-9690-985bb0bf1692', metadata={'source': 'fish-pets-doc'}, page_content='Goldfish are a type of freshwater fish, known for their bright colors and easy maintenance.'),\n",
       " Document(id='45a7afb4-ef83-4328-9607-52db52c25ead', metadata={'source': 'reptile-pets-doc'}, page_content='Turtles are reptiles that can live both in water and on land, and are kept as exotic pets.'),\n",
       " Document(id='d2c7af07-9110-4f48-9f3a-86007e3c5cce', metadata={'source': 'mammal-pets-doc'}, page_content='Cats are independent and curious creatures, popular as house pets.')]"
      ]
     },
     "execution_count": 7,
     "metadata": {},
     "output_type": "execute_result"
    }
   ],
   "source": [
    "vectorstore.similarity_search(\"Which pets are fish?\")"
   ]
  },
  {
   "cell_type": "code",
   "execution_count": 8,
   "id": "d9e65add",
   "metadata": {},
   "outputs": [
    {
     "data": {
      "text/plain": [
       "[Document(id='06bd31e1-0f89-4d39-85dd-5eef3508e084', metadata={'source': 'fish-pets-doc'}, page_content='Fish are aquatic animals that come in many varieties and are common in home aquariums.'),\n",
       " Document(id='a321d95a-d04b-4544-9690-985bb0bf1692', metadata={'source': 'fish-pets-doc'}, page_content='Goldfish are a type of freshwater fish, known for their bright colors and easy maintenance.'),\n",
       " Document(id='45a7afb4-ef83-4328-9607-52db52c25ead', metadata={'source': 'reptile-pets-doc'}, page_content='Turtles are reptiles that can live both in water and on land, and are kept as exotic pets.'),\n",
       " Document(id='d2c7af07-9110-4f48-9f3a-86007e3c5cce', metadata={'source': 'mammal-pets-doc'}, page_content='Cats are independent and curious creatures, popular as house pets.')]"
      ]
     },
     "execution_count": 8,
     "metadata": {},
     "output_type": "execute_result"
    }
   ],
   "source": [
    "# Async Query\n",
    "await vectorstore.asimilarity_search(\"Which pets are fish?\")"
   ]
  },
  {
   "cell_type": "code",
   "execution_count": 9,
   "id": "491dd31b",
   "metadata": {},
   "outputs": [
    {
     "data": {
      "text/plain": [
       "[(Document(id='06bd31e1-0f89-4d39-85dd-5eef3508e084', metadata={'source': 'fish-pets-doc'}, page_content='Fish are aquatic animals that come in many varieties and are common in home aquariums.'),\n",
       "  0.7524722814559937),\n",
       " (Document(id='a321d95a-d04b-4544-9690-985bb0bf1692', metadata={'source': 'fish-pets-doc'}, page_content='Goldfish are a type of freshwater fish, known for their bright colors and easy maintenance.'),\n",
       "  1.1597652435302734),\n",
       " (Document(id='45a7afb4-ef83-4328-9607-52db52c25ead', metadata={'source': 'reptile-pets-doc'}, page_content='Turtles are reptiles that can live both in water and on land, and are kept as exotic pets.'),\n",
       "  1.1644378900527954),\n",
       " (Document(id='d2c7af07-9110-4f48-9f3a-86007e3c5cce', metadata={'source': 'mammal-pets-doc'}, page_content='Cats are independent and curious creatures, popular as house pets.'),\n",
       "  1.210528016090393)]"
      ]
     },
     "execution_count": 9,
     "metadata": {},
     "output_type": "execute_result"
    }
   ],
   "source": [
    "vectorstore.similarity_search_with_score(\"Which pets are fish?\")"
   ]
  },
  {
   "cell_type": "markdown",
   "id": "1dec4b7a",
   "metadata": {},
   "source": [
    "# Retrievers\n",
    "\n",
    "LangChain VectorStore objects do not subclass Runnable, and so cannot immediately be integrated into Langchain Expression Language chains.\n",
    "\n",
    "Langchain Retrievers are Runnables, so they implement a standard set of methods (e.g., synchronous and asynchronous invoke and batch operations) and are designed to be incorporated in LCEL chains.\n",
    "\n",
    "We can create a simple version of this ourselves, without subclassing Retriever. If we choose what method we wish to use to retrieve documents, we can create a runnable easily. Below we will build one around the similarity_search method:\n",
    "\n"
   ]
  },
  {
   "cell_type": "code",
   "execution_count": null,
   "id": "f43780a1",
   "metadata": {},
   "outputs": [
    {
     "data": {
      "text/plain": [
       "[[Document(id='d2c7af07-9110-4f48-9f3a-86007e3c5cce', metadata={'source': 'mammal-pets-doc'}, page_content='Cats are independent and curious creatures, popular as house pets.')],\n",
       " [Document(id='e4123127-813f-4133-8ad7-7852e158a8fc', metadata={'source': 'mammal-pets-doc'}, page_content='Dogs are loyal and friendly animals, often kept as pets.')]]"
      ]
     },
     "execution_count": 12,
     "metadata": {},
     "output_type": "execute_result"
    }
   ],
   "source": [
    "from typing import List\n",
    "from langchain_core.documents import Document\n",
    "from langchain_core.runnables import RunnableLambda\n",
    "\n",
    "# Get top result for each query of batch\n",
    "retriever = RunnableLambda(vectorstore.similarity_search).bind(k=1)\n",
    "retriever.batch([\"Cat\", \"Dog\"])"
   ]
  },
  {
   "cell_type": "markdown",
   "id": "b09b1053",
   "metadata": {},
   "source": [
    "Vectorstores implement an \"as_retriever\" method that will generate a Retriever, specifically a VectorStoreRetriever. These retrievers include specific search_type and search_kwargs attributes that identify what methods of the underlying vector store to call, and how to parametrize them. For instance, we can replicate the above with the following:"
   ]
  },
  {
   "cell_type": "code",
   "execution_count": 14,
   "id": "a7ae5e79",
   "metadata": {},
   "outputs": [
    {
     "data": {
      "text/plain": [
       "[[Document(id='d2c7af07-9110-4f48-9f3a-86007e3c5cce', metadata={'source': 'mammal-pets-doc'}, page_content='Cats are independent and curious creatures, popular as house pets.')],\n",
       " [Document(id='e4123127-813f-4133-8ad7-7852e158a8fc', metadata={'source': 'mammal-pets-doc'}, page_content='Dogs are loyal and friendly animals, often kept as pets.')]]"
      ]
     },
     "execution_count": 14,
     "metadata": {},
     "output_type": "execute_result"
    }
   ],
   "source": [
    "retriever = vectorstore.as_retriever(\n",
    "    search_type=\"similarity\", search_kwargs={\"k\": 1}\n",
    ")\n",
    "\n",
    "retriever.batch([\"Cat\", \"Dog\"])"
   ]
  },
  {
   "cell_type": "code",
   "execution_count": 22,
   "id": "71841dd9",
   "metadata": {},
   "outputs": [
    {
     "name": "stdout",
     "output_type": "stream",
     "text": [
      "Fish are aquatic animals that come in many varieties and are common in home aquariums.  \n",
      "\n"
     ]
    }
   ],
   "source": [
    "from langchain_core.prompts import ChatPromptTemplate\n",
    "from langchain_core.runnables import RunnablePassthrough\n",
    "\n",
    "message = \"\"\"\n",
    "Answer this question using the provided context only.\n",
    "\n",
    "{question}\n",
    "\n",
    "Context:\n",
    "\n",
    "{context}\n",
    "\"\"\"\n",
    "\n",
    "prompt = ChatPromptTemplate.from_messages(\n",
    "    [(\"human\", message)]\n",
    ")\n",
    "\n",
    "rag_chain = {\"context\": retriever, \"question\": RunnablePassthrough()} | prompt | llm\n",
    "response = rag_chain.invoke(\"Fish?\")\n",
    "print(response.content)"
   ]
  }
 ],
 "metadata": {
  "kernelspec": {
   "display_name": "Python 3",
   "language": "python",
   "name": "python3"
  },
  "language_info": {
   "codemirror_mode": {
    "name": "ipython",
    "version": 3
   },
   "file_extension": ".py",
   "mimetype": "text/x-python",
   "name": "python",
   "nbconvert_exporter": "python",
   "pygments_lexer": "ipython3",
   "version": "3.10.18"
  }
 },
 "nbformat": 4,
 "nbformat_minor": 5
}
