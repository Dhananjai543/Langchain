{
 "cells": [
  {
   "cell_type": "code",
   "execution_count": 1,
   "id": "2becf4aa",
   "metadata": {},
   "outputs": [
    {
     "data": {
      "text/plain": [
       "True"
      ]
     },
     "execution_count": 1,
     "metadata": {},
     "output_type": "execute_result"
    }
   ],
   "source": [
    "import os\n",
    "from dotenv import load_dotenv\n",
    "\n",
    "load_dotenv()"
   ]
  },
  {
   "cell_type": "code",
   "execution_count": 2,
   "id": "0002a0fc",
   "metadata": {},
   "outputs": [
    {
     "name": "stderr",
     "output_type": "stream",
     "text": [
      "c:\\Users\\dhananj1\\Documents\\Langchain\\venv\\lib\\site-packages\\tqdm\\auto.py:21: TqdmWarning: IProgress not found. Please update jupyter and ipywidgets. See https://ipywidgets.readthedocs.io/en/stable/user_install.html\n",
      "  from .autonotebook import tqdm as notebook_tqdm\n"
     ]
    }
   ],
   "source": [
    "from langchain_groq import ChatGroq\n",
    "api_key=os.getenv(\"GROQ_API_KEY\")\n",
    "llm = ChatGroq(groq_api_key=api_key, model=\"qwen/qwen3-32b\", temperature=0)"
   ]
  },
  {
   "cell_type": "code",
   "execution_count": 3,
   "id": "1ac835a9",
   "metadata": {},
   "outputs": [],
   "source": [
    "from langchain.schema import (\n",
    "    AIMessage,\n",
    "    HumanMessage,\n",
    "    SystemMessage\n",
    ")\n",
    "\n"
   ]
  },
  {
   "cell_type": "code",
   "execution_count": 4,
   "id": "0e59da70",
   "metadata": {},
   "outputs": [],
   "source": [
    "speech = \"\"\"\n",
    "The world must be made safe for democracy. Its peace must be planted upon the tested foundations of political liberty. We have no selfish ends to serve. We desire no conquest, no dominion. We seek no indemnities for ourselves, no material compensation for the sacrifices we shall freely make. We are but one of the champions of the rights of mankind. We shall be satisfied when those rights have been made as secure as the faith and the freedom of nations can make them.\n",
    "Just because we fight without rancor and without selfish object, seeking nothing for ourselves but what we shall wish to share with all free peoples, we shall, I feel confident, conduct our operations as belligerents without passion and ourselves observe with proud punctilio the principles of right and of fair play we profess to be fighting for.\n",
    "It will be all the easier for us to conduct ourselves as belligerents in a high spirit of right and fairness because we act without animus, not in enmity toward a people or with the desire to bring any injury or disadvantage upon them, but only in armed opposition to an irresponsible government which has thrown aside all considerations of humanity and of right and is running amuck. We are, let me say again, the sincere friends of the German people, and shall desire nothing so much as the early reestablishment of intimate relations of mutual advantage between us—however hard it may be for them, for the time being, to believe that this is spoken from our hearts.\n",
    "We have borne with their present government through all these bitter months because of that friendship—exercising a patience and forbearance which would otherwise have been impossible. We shall, happily, still have an opportunity to prove that friendship in our daily attitude and actions toward the millions of men and women of German birth and native sympathy who live among us and share our life, and we shall be proud to prove it toward all who are in fact loyal to their neighbors and to the government in the hour of test. They are, most of them, as true and loyal Americans as if they had never known any other fealty or allegiance. They will be prompt to stand with us in rebuking and restraining the few who may be of a different mind and purpose. If there should be disloyalty, it will be dealt with with a firm hand of stern repression; but, if it lifts its head at all, it will lift it only here and there and without countenance except from a lawless and malignant few.\n",
    "It is a distressing and oppressive duty, gentlemen of the Congress, which I have performed in thus addressing you. There are, it may be, many months of fiery trial and sacrifice ahead of us. It is a fearful thing to lead this great peaceful people into war, into the most terrible and disastrous of all wars, civilization itself seeming to be in the balance. But the right is more precious than peace, and we shall fight for the things which we have always carried nearest our hearts—for democracy, for the right of those who submit to authority to have a voice in their own governments, for the rights and liberties of small nations, for a universal dominion of right by such a concert of free peoples as shall bring peace and safety to all nations and make the world itself at last free.\n",
    "To such a task we can dedicate our lives and our fortunes, everything that we are and everything that we have, with the pride of those who know that the day has come when America is privileged to spend her blood and her might for the principles that gave her birth and happiness and the peace which she has treasured. God helping her, she can do no other.\n",
    "\"\"\""
   ]
  },
  {
   "cell_type": "code",
   "execution_count": 5,
   "id": "0d3d3446",
   "metadata": {},
   "outputs": [],
   "source": [
    "chat_message = [\n",
    "    SystemMessage(content=\"You are a helpful assistant that summarizes text.\"),\n",
    "    HumanMessage(content=f\"Please provide short and concise summary of the following text:\\n\\n{speech}\")\n",
    "]"
   ]
  },
  {
   "cell_type": "code",
   "execution_count": 6,
   "id": "5ad4ae35",
   "metadata": {},
   "outputs": [
    {
     "data": {
      "text/plain": [
       "744"
      ]
     },
     "execution_count": 6,
     "metadata": {},
     "output_type": "execute_result"
    }
   ],
   "source": [
    "llm.get_num_tokens(speech)"
   ]
  },
  {
   "cell_type": "code",
   "execution_count": 7,
   "id": "07cc495a",
   "metadata": {},
   "outputs": [
    {
     "name": "stderr",
     "output_type": "stream",
     "text": [
      "C:\\Users\\dhananj1\\AppData\\Local\\Temp\\ipykernel_13628\\1339791998.py:1: LangChainDeprecationWarning: The method `BaseChatModel.__call__` was deprecated in langchain-core 0.1.7 and will be removed in 1.0. Use :meth:`~invoke` instead.\n",
      "  llm(chat_message).content\n"
     ]
    },
    {
     "data": {
      "text/plain": [
       "\"<think>\\nOkay, let's see. The user wants a short and concise summary of this long text. The text is a speech, probably from a historical figure, maybe Woodrow Wilson given the mention of democracy and World War I context. The main points seem to be about the US entering a war for democratic principles, not for selfish gains. The speaker emphasizes fighting for the rights of mankind, opposing an irresponsible government (likely Germany), and maintaining fair treatment towards German-Americans. There's also a mention of the duty and sacrifice involved, but the belief that democracy and right are worth the effort.\\n\\nI need to capture the key elements: the purpose of the war (democracy, liberty), no selfish motives, opposition to an oppressive government, support for German-Americans, and the commitment to principles over peace. Also, the tone is resolute but compassionate. Let me make sure to mention the main arguments without getting bogged down in the details. Avoid any specific historical references unless necessary. Keep it concise, maybe in a few sentences. Check for any other important points like the mention of dealing with disloyalty but not as a main focus. Alright, let's put it all together clearly.\\n</think>\\n\\nThe text is a resolute call to action for entering a war to defend democracy and global liberty, emphasizing that the U.S. fights not for conquest or gain but to uphold principles of justice, fairness, and self-determination. It condemns the opposing government (likely Germany) as tyrannical while affirming solidarity with its people, stressing the moral duty to oppose oppression and secure a peaceful, rights-based world order. The speaker acknowledges the heavy cost of war but asserts that defending democracy and human rights is paramount, even at great sacrifice.\""
      ]
     },
     "execution_count": 7,
     "metadata": {},
     "output_type": "execute_result"
    }
   ],
   "source": [
    "llm(chat_message).content"
   ]
  },
  {
   "cell_type": "code",
   "execution_count": 8,
   "id": "90fd4ef2",
   "metadata": {},
   "outputs": [],
   "source": [
    "## Prompt Template\n",
    "from langchain.chains import LLMChain\n",
    "from langchain import PromptTemplate\n",
    "\n",
    "generic_template = \"\"\"\n",
    "Write a concise summary of the following:\n",
    "{text}\n",
    "Translate the summary into {language}.\n",
    "\"\"\"\n",
    "\n",
    "prompt = PromptTemplate(\n",
    "    input_variables=[\"text\", \"language\"],\n",
    "    template=generic_template\n",
    ")\n"
   ]
  },
  {
   "cell_type": "code",
   "execution_count": 10,
   "id": "31549f95",
   "metadata": {},
   "outputs": [],
   "source": [
    "complete_prompt = prompt.format(text=speech, language=\"French\")"
   ]
  },
  {
   "cell_type": "code",
   "execution_count": 11,
   "id": "babf4005",
   "metadata": {},
   "outputs": [
    {
     "data": {
      "text/plain": [
       "763"
      ]
     },
     "execution_count": 11,
     "metadata": {},
     "output_type": "execute_result"
    }
   ],
   "source": [
    "llm.get_num_tokens(complete_prompt)"
   ]
  },
  {
   "cell_type": "code",
   "execution_count": 12,
   "id": "adf299ee",
   "metadata": {},
   "outputs": [
    {
     "name": "stderr",
     "output_type": "stream",
     "text": [
      "C:\\Users\\dhananj1\\AppData\\Local\\Temp\\ipykernel_13628\\303819297.py:1: LangChainDeprecationWarning: The class `LLMChain` was deprecated in LangChain 0.1.17 and will be removed in 1.0. Use :meth:`~RunnableSequence, e.g., `prompt | llm`` instead.\n",
      "  llm_chain = LLMChain(llm=llm, prompt=prompt)\n",
      "C:\\Users\\dhananj1\\AppData\\Local\\Temp\\ipykernel_13628\\303819297.py:2: LangChainDeprecationWarning: The method `Chain.run` was deprecated in langchain 0.1.0 and will be removed in 1.0. Use :meth:`~invoke` instead.\n",
      "  summary = llm_chain.run({\"text\": speech, \"language\": \"Hindi\"})\n"
     ]
    },
    {
     "data": {
      "text/plain": [
       "'<think>\\nOkay, let\\'s tackle this. The user wants a concise summary of the given text and then a translation into Hindi. First, I need to understand the main points of the original speech. The speaker is addressing Congress, justifying the entry into war, emphasizing that the goal is to make the world safe for democracy and political liberty. They mention not seeking conquest, dominion, or material gain, but rather fighting for the rights of mankind. There\\'s a focus on conducting the war with fairness and right, opposing an irresponsible government (likely Germany) without enmity towards the people. They express friendship towards the German people and the desire for future relations. Also, they mention dealing with disloyalty firmly but note it\\'s only from a few. The conclusion is about the duty to fight for democracy, liberty, and peace, even if it\\'s a difficult decision.\\n\\nNow, I need to condense this into a concise summary. I should highlight the key elements: purpose of the war (democracy, liberty), no selfish motives, opposition to an irresponsible government, friendship with the German people, handling disloyalty, and the moral duty to fight for these principles.\\n\\nFor the Hindi translation, I need to ensure that the summary is accurately translated, maintaining the formal tone of the original. I should check for any specific terms that might need careful translation, like \"proud punctilio\" or \"concert of free peoples.\" Also, make sure the structure flows well in Hindi, perhaps breaking down complex sentences for clarity.\\n\\nWait, the user might be looking for a summary that\\'s not only concise but also captures the essence without getting bogged down in the detailed arguments. Let me make sure the summary includes all the main points without being too verbose. Also, the Hindi translation should be precise, using appropriate vocabulary that conveys the same weight as the original English. Maybe use terms like \"स्वतंत्रता\" for liberty, \"लोकतंत्र\" for democracy, and ensure that the message about fighting for principles is clear.\\n\\nI should also check for any potential misunderstandings in translation. For example, \"sincere friends of the German people\" should be translated in a way that shows genuine friendship. Also, the part about dealing with disloyalty needs to be clear that it\\'s only a few individuals. Let me review the summary again to ensure it\\'s accurate and then proceed with the translation.\\n</think>\\n\\n**Summary:**  \\nThe speech emphasizes the necessity of fighting to establish a world safe for democracy and political liberty, rejecting selfish motives like conquest or material gain. The speaker asserts that the war is against an irresponsible government, not the German people, and vows to uphold fairness and justice. They express hope for future reconciliation with Germany and address internal disloyalty with firmness. The ultimate goal is to defend democracy, small nations\\' rights, and global peace, even at great personal and national cost. The speaker acknowledges the gravity of leading the nation into war but affirms the moral duty to protect these principles.\\n\\n**Hindi Translation:**  \\nवक्ता यह बताते हैं कि युद्ध लोकतंत्र और राजनीतिक स्वतंत्रता के लिए आवश्यक है, जिसमें निश्चित रूप से शोषण या लाभ की इच्छा नहीं है। वे जर्मन लोगों के प्रति सच्ची दोस्ती का दावा करते हैं, लेकिन उत्तराधिकारी सरकार के खिलाफ लड़ाई लड़ेंगे। वे निष्पक्षता और न्याय के सिद्धांतों के साथ युद्ध लड़ने का वादा करते हैं। अंतर्द्वंद्व के साथ निपटने के लिए ठोस कदम उठाए जाएंगे, लेकिन यह केवल कुछ अविधिमान लोगों के कारण होगा। अंत में, वे लोकतंत्र, छोटे राष्ट्रों के अधिकारों और विश्व शांति के लिए लड़ाई के महत्व को बताते हैं, जिसके लिए देश की बलिदान की आवश्यकता है।'"
      ]
     },
     "execution_count": 12,
     "metadata": {},
     "output_type": "execute_result"
    }
   ],
   "source": [
    "llm_chain = LLMChain(llm=llm, prompt=prompt)\n",
    "summary = llm_chain.run({\"text\": speech, \"language\": \"Hindi\"})\n",
    "summary"
   ]
  },
  {
   "cell_type": "code",
   "execution_count": 14,
   "id": "c1feddce",
   "metadata": {},
   "outputs": [
    {
     "data": {
      "text/plain": [
       "[Document(metadata={'producer': 'GPL Ghostscript 8.15', 'creator': 'PScript5.dll Version 5.2', 'creationdate': 'D:20070730160943', 'moddate': 'D:20070730160943', 'title': 'Microsoft Word - Document1', 'author': 'Shri', 'source': 'apjspeech.pdf', 'total_pages': 7, 'page': 0, 'page_label': '1'}, page_content='A P J Abdul Kalam Departing speech \\n \\n \\nFriends, I am delighted to address you all, in the country and those livi ng abroad, after \\nworking with you and completing five beautiful and eventful years in Rashtrapati \\nBhavan. Today, it is indeed a thanks giving occasion. I would like to narr ate, how I \\nenjoyed every minute of my tenure enriched by the wonderful assoc iation from each one \\nof you, hailing from different walks of life, be it politics, sci ence and technology, \\nacademics, arts, literature, business, judiciary, administration, local bodies, farming, \\nhome makers, special children, media and above all from the youth and st udent \\ncommunity who are the future wealth of our country. During my intera ction at \\nRashtrapati Bhavan in Delhi and at every state and union territor y as well as through my \\nonline interactions, I have many unique experiences to share with you, which signify the \\nfollowing important messages: \\n \\n1. Accelerate development : Aspiration of the youth, \\n \\n2. Empower villages, \\n \\n3. Mobilize rural core competence for competitiveness, \\n \\n4. Seed to Food: Backbone for agricultural growth \\n \\n5. Defeat problems and succeed, \\n \\n6. Overcome problems through partnership, \\n \\n7. Courage in combating calamities, \\n \\n8. Connectivity for societal transformation, \\n \\n9. Defending the nation: Our pride and \\n \\n10. Youth movement for Developed India 2020. \\n \\nNow let me share with you each of the messages. \\n \\nAccelerate Development: Aspiration of the youth \\nWhile there were many significant events during my tenure, a que stion from a little girl \\nAnukriti of Sri Sathya Sai Jagriti Vidya Mandir School, of Dar wa village from Haryana, \\nduring children’s visit to Rashtrapati Bhavan on May 22, 2006, rings in my  mind ever \\nafter. \\n \\nAnukriti asked me “why India cannot become a developed nation before the year 2020”. I \\nappreciated the question and said it was indeed a thoughtful question and as sured her that \\nthat her dream would be taken to the highest institution of the nation and we would work'),\n",
       " Document(metadata={'producer': 'GPL Ghostscript 8.15', 'creator': 'PScript5.dll Version 5.2', 'creationdate': 'D:20070730160943', 'moddate': 'D:20070730160943', 'title': 'Microsoft Word - Document1', 'author': 'Shri', 'source': 'apjspeech.pdf', 'total_pages': 7, 'page': 1, 'page_label': '2'}, page_content='for it to achieve before 2020. This question reflects how the desire t o live in developed \\nIndia has entered into the minds of the youth. The same feelings are  echoed by over \\nfifteen lakh youth, whom I have met so far and who represent the drea m of the 540 \\nmillion youth of the nation. The aspirations of the young to live in a prosperous, safe and \\nproud India should be the guiding factor in whatever profession we contribute. \\n \\nEmpower Villages \\nFriends, I recall my visit to Nagaland on 26th October 2002, soon after m y assuming \\noffice as President. It was a unique experience for me at Khuza ma village to meet tribal \\nvillage council members and discuss with them the village progress  and the dream of \\nvillage citizens. I was very happy to see the empowered village  council functioning with \\nfinancial powers and taking decisions. I saw a prosperous village with fruits and \\nvegetables production. However, there is a need for providing physical c onnectivity in \\nNagaland through quality roads for enabling faster movement of produ cts from villages \\nto the market. That meeting gave me a powerful message about the t ransformation which \\ncan take place to the 600,000 villages of India, if all the villages a re empowered to deal \\nwith their development and are well connected among themselves and wit h the urban \\nsocieties. \\n \\nMobilizing rural core competence for competitiveness \\nNow I would like to talk about the initiative of Periyar Maniammai  College of \\nTechnology for Women, Vallam, Tanjore of Providing Urban Amenities in Rural Areas \\n(PURA) complex involving 65 villages with a population of 3 lakhs. This inc ludes \\nprovision of three connectivities - physical, electronic and knowledge  - leading to \\neconomic connectivity. Periyar PURA has health care centers, pr imary to post graduate \\nlevel education and vocational training centers. This has resulted i n large-scale \\nemployment generation and creation of number of entrepreneurs with the  active support \\nof 1000 self-help groups. Two hundred acres of waste land has been develope d into a \\ncultivable land. The villagers are busy in cultivation, planting Jatropha, herbal and \\nmedicinal plants, power generation using bio-mass, food processing and above all \\nrunning marketing centers. It provides a sustainable economic development model for the \\nwhole region. \\n \\nDuring the last eight months, people of Periyar PURA villages technologically supported \\nby Periyar Maniammai College of Engineering for Women have w orked with experts \\nfrom Japan External Trade Organisation (JETRO) on various products, for  which core \\ncompetence and raw material are available in Thanjavur district. They developed \\ninternationally competitive prototypes for 55 life style products wi th support of JETRO \\nspecialists and feedback from exhibitions at Delhi and Tokyo. This co -operative venture \\nhas enhanced the innovative ability of the people of all the 65 villages  enabling them to \\ndevelop and produce internationally acceptable products. I have seen si milar type of \\nPURA being established in many states. The whole country needs 7000 PU RA to \\nbridging the rural – urban divide. \\n \\nSeed to Food: Backbone for agricultural growth'),\n",
       " Document(metadata={'producer': 'GPL Ghostscript 8.15', 'creator': 'PScript5.dll Version 5.2', 'creationdate': 'D:20070730160943', 'moddate': 'D:20070730160943', 'title': 'Microsoft Word - Document1', 'author': 'Shri', 'source': 'apjspeech.pdf', 'total_pages': 7, 'page': 2, 'page_label': '3'}, page_content='Let me now share with you, the enriching experience I had, whil e meeting more than \\n6000 farmers from different States and Union Territories visitin g Rashtrapati Bhavan. \\nThey evinced keen interest in the Mughal Gardens, the Herbal Gardens , the Spiritual \\nGarden, the Musical Garden, the Bio-diesel garden and the Nutrition Garden and interact \\nwith the Horticultural specialists. Recently, during my address to the agricultural \\nscientists while participating in a National Symposium on “Agri culture Cannot Wait”, I \\nsummarized the many practical suggestions given by farmers. W e have to double the \\nagricultural production with reduced land, reduced water resources and re duced \\nmanpower and improve the economic conditions of the nation through the principle  of \\n“Seed to Food” since agriculture is the backbone of the nation. We should em power the \\nfarmers to protect and nurture the fertile land for second green re volution. Meeting the \\nScientists and the Farmers has given me the confidence \\nthat the nation is poised to increase the agricultural GDP growth by atleast 4% per annum \\nthrough the partnership of farmers and agricultural scientists a nd industries particularly \\nfor value addition. \\n \\nDefeat the problems and succeed \\nOn the evening of February 24, 2007, at Coimbatore, I had a very beautif ul experience. \\nAs I got ready for meeting the first person out of twenty appoint ments, a wheel chair was \\nin sight with a smiling person probably in his late fifties; unfortunately he has no hands \\nand legs. His radiant face was revealing his happy state of mi nd. He introduced himself \\nas Vidwan Coimbatore SR Krishna Murthy. I greeted him and asked him  how this had \\nhappened. He smilingly said that it was from by birth. He thanked G od, his parents, \\nteachers and many others for giving him confidence, training and he lp. I asked him, what \\nI could do for him? He said, “I don’t need anything from you. I would like to sing in fr ont \\nof you”. I readily agreed. He sang melodiously the Saint Thyagraj a’s pancha ratna kriti \\nentharo mahanubavulu in Sriragam giving me a glimpse of his talent. I was quite touched. \\nWhat is the message? Despite being physically challenged, the latent talent of music \\ncould blossom in this \\nperson with his positive attitude and perseverance, encouraged by the pa rents, teachers, \\nacademics and rasikas. Now he wants to give, give and give his art to inspire others. Of \\ncourse, by his merit of music, in July 2007, he performed in the Rashtra pati Bhavan art \\ntheatre. \\n \\nOvercome the impact of disaster through partnership \\nI had the opportunity to experience the Indomitable Spirit of the people  and children of \\nJammu & Kashmir even as they were just recovering from the de vastating earthquake in \\n2005. I visited Urusa village on 26th November 2005 which has been adopted by the  \\nWestern Air Command, Air Force for providing relief and medical aid to the residents of \\nthat area. When I went there, I found that the school building had been severely damaged. \\nI met all the school children and the village citizen of Urusa. The villagers apprised me of \\ntheir losses and had all praise for Army and Air Force role in rescue and relief operations \\nalong with state government. I appreciate the courage of the people of Urusa in defeating \\ntheir problems. They have actually become the master of the probl em rather than \\nallowing problems to become their master. Despite the severe l oss due to the earthquake,'),\n",
       " Document(metadata={'producer': 'GPL Ghostscript 8.15', 'creator': 'PScript5.dll Version 5.2', 'creationdate': 'D:20070730160943', 'moddate': 'D:20070730160943', 'title': 'Microsoft Word - Document1', 'author': 'Shri', 'source': 'apjspeech.pdf', 'total_pages': 7, 'page': 3, 'page_label': '4'}, page_content='the children and the members of the village participated in the reli ef operation with the \\nArmed Forces \\nbravely and were smiling when I went to meet them. They interact ed with me and said \\nthat the school was functional in the temporary tents. Here, I also witnessed the \\nparticipation of acting Chief Justice of Jammu & Kashmir along with State Government \\nauthorities in on-the-spot settlement of relief grants to be provide d to the victims whose \\nhouses had been damaged in the earth quake. I have experienced many s uch acts of \\ncourage from our citizens when faced with severe challenges. \\n \\nCourage in combating calamities \\nIn 2005, I met the Tribal Council Leaders, Students, Children of Chuckchucha  village \\nduring my visit to Car Nicobar Islands. While various reconstruction a nd rehabilitation \\nactivities were in progress, during the discussions with the members  of tribal council, I \\nrealized the unique trait among the Car-Nicobar islanders. Even thoug h there were many \\nhuman losses due to the Tsunami of 26 Dec 2004, the tribal islanders had  taken \\npossession of affected victims as their children and there is nothi ng like orphanage in \\nCar-Nicobar Islands. Touched by their courage, I composed few vers es called “Sea \\nWaves” which reads as follows: \\nSea Waves \\n \\nWe are the children of Sea waves, \\nSea waves are my friends. \\nWhen they become angry, \\nSea waves give the challenges. \\nGod has given the courage, \\nTo challenge the sea waves. \\nAnd we will succeed, \\nWe will succeed \\nWith Almighty’s grace. \\nAll the members who were gathered in the village sang the poem  with me and exhibited \\nlots of courage and enthusiasm even though they had gone through severe  suffering \\nduring the Tsunami. \\n \\nConnectivity for societal transformation \\nI addressed the Pan African Parliament on 16 September 2004, at Johanne sburg, South \\nAfrica. This was attended by 53 member countries of the Africa n Union, where I \\nproposed the concept of Pan African e-Network for providing seamless and integrated \\nsatellite, fiber optics and wireless network connecting 53 African countries at an \\nestimated cost of US $ 100 million. \\n \\nAs part of the project 12 universities (7 from India and 5 from Afri ca), 17 Super \\nSpecialty Hospitals (12 from India and 5 from Africa), 53 tele-me dicine centers and 53 \\ntele-education centres in Africa will be connected. The pilot project on tele-education and \\ntele-medicine in Ethiopia has already been commissioned. Indira Gandh i National Open \\nUniversity has taken up the MBA Course for 34 Ethiopian students of Addis  Ababa and \\nHarmaya Universities. As regards, tele-medicine, the special ists from CARE Hospital,'),\n",
       " Document(metadata={'producer': 'GPL Ghostscript 8.15', 'creator': 'PScript5.dll Version 5.2', 'creationdate': 'D:20070730160943', 'moddate': 'D:20070730160943', 'title': 'Microsoft Word - Document1', 'author': 'Shri', 'source': 'apjspeech.pdf', 'total_pages': 7, 'page': 4, 'page_label': '5'}, page_content='Hyderabad are providing one-hour live tele-consultation to doctors in B lack Lion \\nHospital, Addis Ababa in Cardiology and Radiology since November 2006. Using the \\nPan African network the Heads of the State in all the 53 countries  will be connected for \\ninstant communication. I am extremely happy that Indian experience  in bringing the \\nbenefits of technology to the people has enabled us to work with Afric a to bring societal \\ntransformation in the African continent. \\n \\nDefending the nation: Our pride \\nI visited KUMAR in Siachen Glacier located at 17,000 feet altitude  held by the Indian \\nArmy, had a memorable underwater journey in INS Sindhurakshak and flew  in a Sukhoi-\\n30 fighter experiencing 2.5 g. In these three experiences, I personal ly felt proud of our \\never vigilant Soldiers, Sailors and Air Warriors performing their  tasks beyond the call of \\ntheir duty even in the most adverse circumstances natural and man m ade. During the last \\nfive years, I had an opportunity to present colours to many regime nts, participate in \\nnumber of passing out parades, meet the troops who were going to undertake  peace \\nmissions and interact with the family members of our Defence F orces. Our Defence \\nForces are in a beautiful mission. When the nation sleeps during night , Members of our \\nDefence teams are awake to guard us and remain vigilant to counte r any threat. The \\nNation cherishes the valour, commitment and devotion to duty of our Defenc e Forces. \\nSimilarly, I had opportunities to interact \\nwith members of our para-military forces, central and state poli ce personnel including \\ninternal security forces who are making immense contribution in au gmenting the safety \\nand security of our citizens under difficult conditions. \\n \\nYouth movement for Developed India 2020 \\nRecently, in Hyderabad, I met a group of citizens who are putting i nto practice the motto \\nof transforming of our youth into enlightened citizen. The Lead India 2020 Found ation \\ncreated by Dr. N.B. Sudershan at Hyderabad is training thousands of s tudents in many \\ndistricts of Andhra Pradesh in partnership with the District Adm inistration. Particularly, I \\nhappened to know the transformation which has taken place among the students  of \\nMedak district. As per the district authorities the impact of the  training on the students is \\nvisible in terms of self-discipline, love for their parents and tea chers shedding of stage \\nfear and recognition of their duties towards the nation. I talke d to Ms. Padma, a student \\nleader from Andhra Pradesh Tribal Welfare School, Nalgonda who relat ed how she \\nweaned her father away from smoking after imbibing the spirit of  the 10 point oath from \\nthe Lead India Training Camp. This gives me an assurance that the  youth of our country \\nare on the right path \\nthrough this mission oriented programme. With the ignited minds of the  540 million \\nyouth below the age of 25, which I consider is the most powerful resour ce on the earth, \\nunder the earth and above the earth, we have to empower the youth through va lue based \\neducation and leadership. \\n \\nConclusion \\nI was touched by the variety of Indian panorama, emotional content of  the tune, cultural \\ndiversity and unity of minds in the vast land of ours. I have cited thes e examples just to \\ngive a glimpse of the richness of our tradition and effort being taken by different agencies'),\n",
       " Document(metadata={'producer': 'GPL Ghostscript 8.15', 'creator': 'PScript5.dll Version 5.2', 'creationdate': 'D:20070730160943', 'moddate': 'D:20070730160943', 'title': 'Microsoft Word - Document1', 'author': 'Shri', 'source': 'apjspeech.pdf', 'total_pages': 7, 'page': 5, 'page_label': '6'}, page_content='to preserve it. There are also many new adventures by instituti ons and individuals. I have \\nexperienced many of them and learnt a lot about my country and our peopl e. Even while \\npursuing our economic growth, we need to do a lot to preserve the rich and diverse \\ntreasures of our culture and civilization. It is our duty for our fut ure generations. This has \\nto be done in a much larger scale through countrywide participatio n of multiple \\ninstitutions. Our country is blessed with natural resources, has shown c onsiderable \\nprogress in the last sixty years, and above all we have hard wor king people particularly \\nthe power of the 540 million youth of the country. Every sector of our count ry has given \\nme the \\nconfidence that India can become a developed nation well before 2020. Whomsoeve r, I \\nmet they constantly ask what they can give to the nation. We should c onstantly strive to \\nempower such members of the society. With this spirit, I am extr emely happy that we are \\non the right path. Here I am reminded of a famous poem: \\n\"When you wish upon a star, \\nMakes no difference who you are, \\nAnything your heart desires, \\nWill come to you” \\nThis poem is true to all of us, and particularly for our youth and i f they aim great, I am \\nsure they will reach close to the target or the target. \\n \\nMy dear citizens, let us resolve to continue to work for realizing the missions of \\ndeveloped India 2020 with the following distinctive profile. \\n \\n1. A Nation where the rural and urban divide has reduced to a thin line. \\n \\n2. A Nation where there is an equitable distribution and adequate acce ss to energy and \\nquality water. \\n \\n3. A Nation where agriculture, industry and service sector work together in symphony. \\n \\n4. A Nation where education with value system is not denied to any meritorious \\ncandidates because of societal or economic discrimination. \\n \\n5. A Nation which is the best destination for the most talented s cholars, scientists, and \\ninvestors. \\n \\n6. A Nation where the best of health care is available to all. \\n \\n7. A Nation where the governance is responsive, transparent and corruption free. \\n \\n8. A Nation where poverty has been totally eradicated, illiterac y removed and crimes \\nagainst women and children are absent and none in the society feels alienated. \\n \\n9. A Nation that is prosperous, healthy, secure, peaceful and happy a nd continues with a \\nsustainable growth path.'),\n",
       " Document(metadata={'producer': 'GPL Ghostscript 8.15', 'creator': 'PScript5.dll Version 5.2', 'creationdate': 'D:20070730160943', 'moddate': 'D:20070730160943', 'title': 'Microsoft Word - Document1', 'author': 'Shri', 'source': 'apjspeech.pdf', 'total_pages': 7, 'page': 6, 'page_label': '7'}, page_content='10. A Nation that is one of the best places to live in and is proud of its leadership. \\n \\nFinally let me thank each one of you for showering your love and aff ection on me \\nthroughout the last five years by your cooperation and support. \\n \\nDear Citizens, I conclude my address by sharing with you my mission in life which is to \\nbring connectivity between billion hearts and minds of the people of Indi a in our \\nmulticultural society and to embed the self confidence that \"we c an do it\". I will be \\nalways with you, dear citizens, in the great mission of making Indi a a developed nation \\nbefore 2020. \\n \\nMay God bless you. \\n \\nJai hind. \\nDr. A. P. J. Abdul Kalam \\nwww.presidentofindia.nic.in')]"
      ]
     },
     "execution_count": 14,
     "metadata": {},
     "output_type": "execute_result"
    }
   ],
   "source": [
    "## Stuff Document Chain\n",
    "from langchain_community.document_loaders import PyPDFLoader\n",
    "\n",
    "loader = PyPDFLoader(\"apjspeech.pdf\")\n",
    "docs = loader.load_and_split()\n",
    "docs"
   ]
  },
  {
   "cell_type": "code",
   "execution_count": 15,
   "id": "9c1b1ebf",
   "metadata": {},
   "outputs": [],
   "source": [
    "template = \"\"\"\n",
    "Write a concise summary of the following speech:\n",
    "{text}\n",
    "\"\"\"\n",
    "\n",
    "prompt = PromptTemplate(\n",
    "    input_variables=[\"text\"],\n",
    "    template=template\n",
    ")"
   ]
  },
  {
   "cell_type": "code",
   "execution_count": 16,
   "id": "c3e1f8ec",
   "metadata": {},
   "outputs": [
    {
     "name": "stdout",
     "output_type": "stream",
     "text": [
      "\n",
      "\n",
      "\u001b[1m> Entering new StuffDocumentsChain chain...\u001b[0m\n",
      "\n",
      "\n",
      "\u001b[1m> Entering new LLMChain chain...\u001b[0m\n",
      "Prompt after formatting:\n",
      "\u001b[32;1m\u001b[1;3m\n",
      "Write a concise summary of the following speech:\n",
      "A P J Abdul Kalam Departing speech \n",
      " \n",
      " \n",
      "Friends, I am delighted to address you all, in the country and those livi ng abroad, after \n",
      "working with you and completing five beautiful and eventful years in Rashtrapati \n",
      "Bhavan. Today, it is indeed a thanks giving occasion. I would like to narr ate, how I \n",
      "enjoyed every minute of my tenure enriched by the wonderful assoc iation from each one \n",
      "of you, hailing from different walks of life, be it politics, sci ence and technology, \n",
      "academics, arts, literature, business, judiciary, administration, local bodies, farming, \n",
      "home makers, special children, media and above all from the youth and st udent \n",
      "community who are the future wealth of our country. During my intera ction at \n",
      "Rashtrapati Bhavan in Delhi and at every state and union territor y as well as through my \n",
      "online interactions, I have many unique experiences to share with you, which signify the \n",
      "following important messages: \n",
      " \n",
      "1. Accelerate development : Aspiration of the youth, \n",
      " \n",
      "2. Empower villages, \n",
      " \n",
      "3. Mobilize rural core competence for competitiveness, \n",
      " \n",
      "4. Seed to Food: Backbone for agricultural growth \n",
      " \n",
      "5. Defeat problems and succeed, \n",
      " \n",
      "6. Overcome problems through partnership, \n",
      " \n",
      "7. Courage in combating calamities, \n",
      " \n",
      "8. Connectivity for societal transformation, \n",
      " \n",
      "9. Defending the nation: Our pride and \n",
      " \n",
      "10. Youth movement for Developed India 2020. \n",
      " \n",
      "Now let me share with you each of the messages. \n",
      " \n",
      "Accelerate Development: Aspiration of the youth \n",
      "While there were many significant events during my tenure, a que stion from a little girl \n",
      "Anukriti of Sri Sathya Sai Jagriti Vidya Mandir School, of Dar wa village from Haryana, \n",
      "during children’s visit to Rashtrapati Bhavan on May 22, 2006, rings in my  mind ever \n",
      "after. \n",
      " \n",
      "Anukriti asked me “why India cannot become a developed nation before the year 2020”. I \n",
      "appreciated the question and said it was indeed a thoughtful question and as sured her that \n",
      "that her dream would be taken to the highest institution of the nation and we would work\n",
      "\n",
      "for it to achieve before 2020. This question reflects how the desire t o live in developed \n",
      "India has entered into the minds of the youth. The same feelings are  echoed by over \n",
      "fifteen lakh youth, whom I have met so far and who represent the drea m of the 540 \n",
      "million youth of the nation. The aspirations of the young to live in a prosperous, safe and \n",
      "proud India should be the guiding factor in whatever profession we contribute. \n",
      " \n",
      "Empower Villages \n",
      "Friends, I recall my visit to Nagaland on 26th October 2002, soon after m y assuming \n",
      "office as President. It was a unique experience for me at Khuza ma village to meet tribal \n",
      "village council members and discuss with them the village progress  and the dream of \n",
      "village citizens. I was very happy to see the empowered village  council functioning with \n",
      "financial powers and taking decisions. I saw a prosperous village with fruits and \n",
      "vegetables production. However, there is a need for providing physical c onnectivity in \n",
      "Nagaland through quality roads for enabling faster movement of produ cts from villages \n",
      "to the market. That meeting gave me a powerful message about the t ransformation which \n",
      "can take place to the 600,000 villages of India, if all the villages a re empowered to deal \n",
      "with their development and are well connected among themselves and wit h the urban \n",
      "societies. \n",
      " \n",
      "Mobilizing rural core competence for competitiveness \n",
      "Now I would like to talk about the initiative of Periyar Maniammai  College of \n",
      "Technology for Women, Vallam, Tanjore of Providing Urban Amenities in Rural Areas \n",
      "(PURA) complex involving 65 villages with a population of 3 lakhs. This inc ludes \n",
      "provision of three connectivities - physical, electronic and knowledge  - leading to \n",
      "economic connectivity. Periyar PURA has health care centers, pr imary to post graduate \n",
      "level education and vocational training centers. This has resulted i n large-scale \n",
      "employment generation and creation of number of entrepreneurs with the  active support \n",
      "of 1000 self-help groups. Two hundred acres of waste land has been develope d into a \n",
      "cultivable land. The villagers are busy in cultivation, planting Jatropha, herbal and \n",
      "medicinal plants, power generation using bio-mass, food processing and above all \n",
      "running marketing centers. It provides a sustainable economic development model for the \n",
      "whole region. \n",
      " \n",
      "During the last eight months, people of Periyar PURA villages technologically supported \n",
      "by Periyar Maniammai College of Engineering for Women have w orked with experts \n",
      "from Japan External Trade Organisation (JETRO) on various products, for  which core \n",
      "competence and raw material are available in Thanjavur district. They developed \n",
      "internationally competitive prototypes for 55 life style products wi th support of JETRO \n",
      "specialists and feedback from exhibitions at Delhi and Tokyo. This co -operative venture \n",
      "has enhanced the innovative ability of the people of all the 65 villages  enabling them to \n",
      "develop and produce internationally acceptable products. I have seen si milar type of \n",
      "PURA being established in many states. The whole country needs 7000 PU RA to \n",
      "bridging the rural – urban divide. \n",
      " \n",
      "Seed to Food: Backbone for agricultural growth\n",
      "\n",
      "Let me now share with you, the enriching experience I had, whil e meeting more than \n",
      "6000 farmers from different States and Union Territories visitin g Rashtrapati Bhavan. \n",
      "They evinced keen interest in the Mughal Gardens, the Herbal Gardens , the Spiritual \n",
      "Garden, the Musical Garden, the Bio-diesel garden and the Nutrition Garden and interact \n",
      "with the Horticultural specialists. Recently, during my address to the agricultural \n",
      "scientists while participating in a National Symposium on “Agri culture Cannot Wait”, I \n",
      "summarized the many practical suggestions given by farmers. W e have to double the \n",
      "agricultural production with reduced land, reduced water resources and re duced \n",
      "manpower and improve the economic conditions of the nation through the principle  of \n",
      "“Seed to Food” since agriculture is the backbone of the nation. We should em power the \n",
      "farmers to protect and nurture the fertile land for second green re volution. Meeting the \n",
      "Scientists and the Farmers has given me the confidence \n",
      "that the nation is poised to increase the agricultural GDP growth by atleast 4% per annum \n",
      "through the partnership of farmers and agricultural scientists a nd industries particularly \n",
      "for value addition. \n",
      " \n",
      "Defeat the problems and succeed \n",
      "On the evening of February 24, 2007, at Coimbatore, I had a very beautif ul experience. \n",
      "As I got ready for meeting the first person out of twenty appoint ments, a wheel chair was \n",
      "in sight with a smiling person probably in his late fifties; unfortunately he has no hands \n",
      "and legs. His radiant face was revealing his happy state of mi nd. He introduced himself \n",
      "as Vidwan Coimbatore SR Krishna Murthy. I greeted him and asked him  how this had \n",
      "happened. He smilingly said that it was from by birth. He thanked G od, his parents, \n",
      "teachers and many others for giving him confidence, training and he lp. I asked him, what \n",
      "I could do for him? He said, “I don’t need anything from you. I would like to sing in fr ont \n",
      "of you”. I readily agreed. He sang melodiously the Saint Thyagraj a’s pancha ratna kriti \n",
      "entharo mahanubavulu in Sriragam giving me a glimpse of his talent. I was quite touched. \n",
      "What is the message? Despite being physically challenged, the latent talent of music \n",
      "could blossom in this \n",
      "person with his positive attitude and perseverance, encouraged by the pa rents, teachers, \n",
      "academics and rasikas. Now he wants to give, give and give his art to inspire others. Of \n",
      "course, by his merit of music, in July 2007, he performed in the Rashtra pati Bhavan art \n",
      "theatre. \n",
      " \n",
      "Overcome the impact of disaster through partnership \n",
      "I had the opportunity to experience the Indomitable Spirit of the people  and children of \n",
      "Jammu & Kashmir even as they were just recovering from the de vastating earthquake in \n",
      "2005. I visited Urusa village on 26th November 2005 which has been adopted by the  \n",
      "Western Air Command, Air Force for providing relief and medical aid to the residents of \n",
      "that area. When I went there, I found that the school building had been severely damaged. \n",
      "I met all the school children and the village citizen of Urusa. The villagers apprised me of \n",
      "their losses and had all praise for Army and Air Force role in rescue and relief operations \n",
      "along with state government. I appreciate the courage of the people of Urusa in defeating \n",
      "their problems. They have actually become the master of the probl em rather than \n",
      "allowing problems to become their master. Despite the severe l oss due to the earthquake,\n",
      "\n",
      "the children and the members of the village participated in the reli ef operation with the \n",
      "Armed Forces \n",
      "bravely and were smiling when I went to meet them. They interact ed with me and said \n",
      "that the school was functional in the temporary tents. Here, I also witnessed the \n",
      "participation of acting Chief Justice of Jammu & Kashmir along with State Government \n",
      "authorities in on-the-spot settlement of relief grants to be provide d to the victims whose \n",
      "houses had been damaged in the earth quake. I have experienced many s uch acts of \n",
      "courage from our citizens when faced with severe challenges. \n",
      " \n",
      "Courage in combating calamities \n",
      "In 2005, I met the Tribal Council Leaders, Students, Children of Chuckchucha  village \n",
      "during my visit to Car Nicobar Islands. While various reconstruction a nd rehabilitation \n",
      "activities were in progress, during the discussions with the members  of tribal council, I \n",
      "realized the unique trait among the Car-Nicobar islanders. Even thoug h there were many \n",
      "human losses due to the Tsunami of 26 Dec 2004, the tribal islanders had  taken \n",
      "possession of affected victims as their children and there is nothi ng like orphanage in \n",
      "Car-Nicobar Islands. Touched by their courage, I composed few vers es called “Sea \n",
      "Waves” which reads as follows: \n",
      "Sea Waves \n",
      " \n",
      "We are the children of Sea waves, \n",
      "Sea waves are my friends. \n",
      "When they become angry, \n",
      "Sea waves give the challenges. \n",
      "God has given the courage, \n",
      "To challenge the sea waves. \n",
      "And we will succeed, \n",
      "We will succeed \n",
      "With Almighty’s grace. \n",
      "All the members who were gathered in the village sang the poem  with me and exhibited \n",
      "lots of courage and enthusiasm even though they had gone through severe  suffering \n",
      "during the Tsunami. \n",
      " \n",
      "Connectivity for societal transformation \n",
      "I addressed the Pan African Parliament on 16 September 2004, at Johanne sburg, South \n",
      "Africa. This was attended by 53 member countries of the Africa n Union, where I \n",
      "proposed the concept of Pan African e-Network for providing seamless and integrated \n",
      "satellite, fiber optics and wireless network connecting 53 African countries at an \n",
      "estimated cost of US $ 100 million. \n",
      " \n",
      "As part of the project 12 universities (7 from India and 5 from Afri ca), 17 Super \n",
      "Specialty Hospitals (12 from India and 5 from Africa), 53 tele-me dicine centers and 53 \n",
      "tele-education centres in Africa will be connected. The pilot project on tele-education and \n",
      "tele-medicine in Ethiopia has already been commissioned. Indira Gandh i National Open \n",
      "University has taken up the MBA Course for 34 Ethiopian students of Addis  Ababa and \n",
      "Harmaya Universities. As regards, tele-medicine, the special ists from CARE Hospital,\n",
      "\n",
      "Hyderabad are providing one-hour live tele-consultation to doctors in B lack Lion \n",
      "Hospital, Addis Ababa in Cardiology and Radiology since November 2006. Using the \n",
      "Pan African network the Heads of the State in all the 53 countries  will be connected for \n",
      "instant communication. I am extremely happy that Indian experience  in bringing the \n",
      "benefits of technology to the people has enabled us to work with Afric a to bring societal \n",
      "transformation in the African continent. \n",
      " \n",
      "Defending the nation: Our pride \n",
      "I visited KUMAR in Siachen Glacier located at 17,000 feet altitude  held by the Indian \n",
      "Army, had a memorable underwater journey in INS Sindhurakshak and flew  in a Sukhoi-\n",
      "30 fighter experiencing 2.5 g. In these three experiences, I personal ly felt proud of our \n",
      "ever vigilant Soldiers, Sailors and Air Warriors performing their  tasks beyond the call of \n",
      "their duty even in the most adverse circumstances natural and man m ade. During the last \n",
      "five years, I had an opportunity to present colours to many regime nts, participate in \n",
      "number of passing out parades, meet the troops who were going to undertake  peace \n",
      "missions and interact with the family members of our Defence F orces. Our Defence \n",
      "Forces are in a beautiful mission. When the nation sleeps during night , Members of our \n",
      "Defence teams are awake to guard us and remain vigilant to counte r any threat. The \n",
      "Nation cherishes the valour, commitment and devotion to duty of our Defenc e Forces. \n",
      "Similarly, I had opportunities to interact \n",
      "with members of our para-military forces, central and state poli ce personnel including \n",
      "internal security forces who are making immense contribution in au gmenting the safety \n",
      "and security of our citizens under difficult conditions. \n",
      " \n",
      "Youth movement for Developed India 2020 \n",
      "Recently, in Hyderabad, I met a group of citizens who are putting i nto practice the motto \n",
      "of transforming of our youth into enlightened citizen. The Lead India 2020 Found ation \n",
      "created by Dr. N.B. Sudershan at Hyderabad is training thousands of s tudents in many \n",
      "districts of Andhra Pradesh in partnership with the District Adm inistration. Particularly, I \n",
      "happened to know the transformation which has taken place among the students  of \n",
      "Medak district. As per the district authorities the impact of the  training on the students is \n",
      "visible in terms of self-discipline, love for their parents and tea chers shedding of stage \n",
      "fear and recognition of their duties towards the nation. I talke d to Ms. Padma, a student \n",
      "leader from Andhra Pradesh Tribal Welfare School, Nalgonda who relat ed how she \n",
      "weaned her father away from smoking after imbibing the spirit of  the 10 point oath from \n",
      "the Lead India Training Camp. This gives me an assurance that the  youth of our country \n",
      "are on the right path \n",
      "through this mission oriented programme. With the ignited minds of the  540 million \n",
      "youth below the age of 25, which I consider is the most powerful resour ce on the earth, \n",
      "under the earth and above the earth, we have to empower the youth through va lue based \n",
      "education and leadership. \n",
      " \n",
      "Conclusion \n",
      "I was touched by the variety of Indian panorama, emotional content of  the tune, cultural \n",
      "diversity and unity of minds in the vast land of ours. I have cited thes e examples just to \n",
      "give a glimpse of the richness of our tradition and effort being taken by different agencies\n",
      "\n",
      "to preserve it. There are also many new adventures by instituti ons and individuals. I have \n",
      "experienced many of them and learnt a lot about my country and our peopl e. Even while \n",
      "pursuing our economic growth, we need to do a lot to preserve the rich and diverse \n",
      "treasures of our culture and civilization. It is our duty for our fut ure generations. This has \n",
      "to be done in a much larger scale through countrywide participatio n of multiple \n",
      "institutions. Our country is blessed with natural resources, has shown c onsiderable \n",
      "progress in the last sixty years, and above all we have hard wor king people particularly \n",
      "the power of the 540 million youth of the country. Every sector of our count ry has given \n",
      "me the \n",
      "confidence that India can become a developed nation well before 2020. Whomsoeve r, I \n",
      "met they constantly ask what they can give to the nation. We should c onstantly strive to \n",
      "empower such members of the society. With this spirit, I am extr emely happy that we are \n",
      "on the right path. Here I am reminded of a famous poem: \n",
      "\"When you wish upon a star, \n",
      "Makes no difference who you are, \n",
      "Anything your heart desires, \n",
      "Will come to you” \n",
      "This poem is true to all of us, and particularly for our youth and i f they aim great, I am \n",
      "sure they will reach close to the target or the target. \n",
      " \n",
      "My dear citizens, let us resolve to continue to work for realizing the missions of \n",
      "developed India 2020 with the following distinctive profile. \n",
      " \n",
      "1. A Nation where the rural and urban divide has reduced to a thin line. \n",
      " \n",
      "2. A Nation where there is an equitable distribution and adequate acce ss to energy and \n",
      "quality water. \n",
      " \n",
      "3. A Nation where agriculture, industry and service sector work together in symphony. \n",
      " \n",
      "4. A Nation where education with value system is not denied to any meritorious \n",
      "candidates because of societal or economic discrimination. \n",
      " \n",
      "5. A Nation which is the best destination for the most talented s cholars, scientists, and \n",
      "investors. \n",
      " \n",
      "6. A Nation where the best of health care is available to all. \n",
      " \n",
      "7. A Nation where the governance is responsive, transparent and corruption free. \n",
      " \n",
      "8. A Nation where poverty has been totally eradicated, illiterac y removed and crimes \n",
      "against women and children are absent and none in the society feels alienated. \n",
      " \n",
      "9. A Nation that is prosperous, healthy, secure, peaceful and happy a nd continues with a \n",
      "sustainable growth path.\n",
      "\n",
      "10. A Nation that is one of the best places to live in and is proud of its leadership. \n",
      " \n",
      "Finally let me thank each one of you for showering your love and aff ection on me \n",
      "throughout the last five years by your cooperation and support. \n",
      " \n",
      "Dear Citizens, I conclude my address by sharing with you my mission in life which is to \n",
      "bring connectivity between billion hearts and minds of the people of Indi a in our \n",
      "multicultural society and to embed the self confidence that \"we c an do it\". I will be \n",
      "always with you, dear citizens, in the great mission of making Indi a a developed nation \n",
      "before 2020. \n",
      " \n",
      "May God bless you. \n",
      " \n",
      "Jai hind. \n",
      "Dr. A. P. J. Abdul Kalam \n",
      "www.presidentofindia.nic.in\n",
      "\u001b[0m\n",
      "\n",
      "\u001b[1m> Finished chain.\u001b[0m\n",
      "\n",
      "\u001b[1m> Finished chain.\u001b[0m\n"
     ]
    },
    {
     "data": {
      "text/plain": [
       "\"<think>\\nOkay, I need to summarize this speech by Dr. A.P.J. Abdul Kalam. Let me start by reading through the entire text to understand the main points. The speech is his farewell address after five years as President of India. He thanks the people and reflects on his experiences. \\n\\nHe mentions ten key messages he wants to share. Let me list them out first: Accelerate development through youth aspirations, empower villages, mobilize rural competence, seed to food for agriculture, defeating problems, overcoming disasters through partnership, courage in calamities, connectivity for societal change, defending the nation, and youth movement for a developed India by 2020.\\n\\nHe starts with the story of a girl asking why India can't become developed by 2020, which inspired his mission. Then he talks about his visit to Nagaland and the importance of empowering villages. The PURA project is highlighted as a model for rural development with physical, electronic, and knowledge connectivity. \\n\\nAgriculture is next, emphasizing the need for increased production with limited resources. He shares a touching story about a physically challenged musician to illustrate overcoming problems. The earthquake in Jammu & Kashmir and the tsunami in Car Nicobar show community resilience. \\n\\nThe Pan African e-Network project is mentioned for global connectivity. He praises the defense forces and discusses youth initiatives like Lead India 2020. The conclusion outlines his vision for a developed India with ten characteristics, ending with gratitude and a motivational message.\\n\\nI need to condense all this into a concise summary. Focus on the key themes: youth empowerment, rural development, technology, education, and national unity. Highlight the ten messages and the examples he uses to support them. Make sure to mention the vision for 2020 and the call to action for the citizens. Avoid getting bogged down in specific details but include the main points he emphasizes. Also, note the emotional and inspirational tone of the speech.\\n</think>\\n\\n**Summary of Dr. A.P.J. Abdul Kalam's Farewell Speech:**  \\n\\nIn his valedictory address, Dr. A.P.J. Abdul Kalam reflects on his five-year tenure as India's President, emphasizing gratitude and a vision for a developed India by 2020. He highlights **ten key messages** derived from his interactions with citizens across diverse sectors:  \\n\\n1. **Youth Aspirations**: Inspired by a student’s question about India’s development, he underscores the youth’s role as the nation’s future, advocating for value-based education and leadership.  \\n2. **Empower Villages**: Stressing rural development, he cites Nagaland’s empowered village councils and the **PURA (Providing Urban Amenities in Rural Areas)** model, which bridges rural-urban divides through infrastructure, education, and entrepreneurship.  \\n3. **Agricultural Growth**: Farmers and scientists must collaborate to double production sustainably via the “Seed to Food” initiative.  \\n4. **Overcoming Challenges**: Stories of resilience, like a disabled musician and earthquake survivors, highlight perseverance and community solidarity.  \\n5. **Disaster Response**: Partnerships between citizens, military, and government are critical in crises, as seen in Jammu & Kashmir and Car Nicobar post-tsunami.  \\n6. **Global Connectivity**: The **Pan African e-Network** project aims to link African nations via tele-education and tele-medicine, showcasing India’s technological leadership.  \\n7. **Defense Pride**: He honors the armed forces’ dedication, emphasizing their role in safeguarding the nation.  \\n8. **Youth-Led Development**: Initiatives like **Lead India 2020** empower students with discipline, civic duty, and leadership skills.  \\n\\n**Vision for Developed India 2020**:  \\nKalam envisions a nation with equitable resources, eradicated poverty, corruption-free governance, and inclusive education/healthcare. He calls for unity, innovation, and collective effort to bridge rural-urban gaps and harness youth potential.  \\n\\nConcluding with gratitude, he reaffirms his belief in India’s ability to achieve greatness through collaboration and self-belief, ending with a poetic reminder: “When you wish upon a star, anything your heart desires will come to you.”  \\n\\n**Key Themes**: Youth empowerment, rural-urban integration, technological innovation, resilience, and national unity. The speech is a call to action for citizens to work toward a prosperous, inclusive India.\""
      ]
     },
     "execution_count": 16,
     "metadata": {},
     "output_type": "execute_result"
    }
   ],
   "source": [
    "from langchain.chains.summarize import load_summarize_chain\n",
    "chain = load_summarize_chain(llm, chain_type=\"stuff\", prompt=prompt, verbose=True)\n",
    "output_summary = chain.run(docs)\n",
    "output_summary"
   ]
  },
  {
   "cell_type": "code",
   "execution_count": 19,
   "id": "9bc9ec89",
   "metadata": {},
   "outputs": [
    {
     "data": {
      "text/plain": [
       "[Document(metadata={'producer': 'GPL Ghostscript 8.15', 'creator': 'PScript5.dll Version 5.2', 'creationdate': 'D:20070730160943', 'moddate': 'D:20070730160943', 'title': 'Microsoft Word - Document1', 'author': 'Shri', 'source': 'apjspeech.pdf', 'total_pages': 7, 'page': 0, 'page_label': '1'}, page_content='A P J Abdul Kalam Departing speech \\n \\n \\nFriends, I am delighted to address you all, in the country and those livi ng abroad, after \\nworking with you and completing five beautiful and eventful years in Rashtrapati \\nBhavan. Today, it is indeed a thanks giving occasion. I would like to narr ate, how I \\nenjoyed every minute of my tenure enriched by the wonderful assoc iation from each one \\nof you, hailing from different walks of life, be it politics, sci ence and technology, \\nacademics, arts, literature, business, judiciary, administration, local bodies, farming, \\nhome makers, special children, media and above all from the youth and st udent \\ncommunity who are the future wealth of our country. During my intera ction at \\nRashtrapati Bhavan in Delhi and at every state and union territor y as well as through my \\nonline interactions, I have many unique experiences to share with you, which signify the \\nfollowing important messages: \\n \\n1. Accelerate development : Aspiration of the youth, \\n \\n2. Empower villages, \\n \\n3. Mobilize rural core competence for competitiveness, \\n \\n4. Seed to Food: Backbone for agricultural growth \\n \\n5. Defeat problems and succeed, \\n \\n6. Overcome problems through partnership, \\n \\n7. Courage in combating calamities, \\n \\n8. Connectivity for societal transformation, \\n \\n9. Defending the nation: Our pride and \\n \\n10. Youth movement for Developed India 2020. \\n \\nNow let me share with you each of the messages. \\n \\nAccelerate Development: Aspiration of the youth \\nWhile there were many significant events during my tenure, a que stion from a little girl \\nAnukriti of Sri Sathya Sai Jagriti Vidya Mandir School, of Dar wa village from Haryana, \\nduring children’s visit to Rashtrapati Bhavan on May 22, 2006, rings in my  mind ever \\nafter. \\n \\nAnukriti asked me “why India cannot become a developed nation before the year 2020”. I \\nappreciated the question and said it was indeed a thoughtful question and as sured her that'),\n",
       " Document(metadata={'producer': 'GPL Ghostscript 8.15', 'creator': 'PScript5.dll Version 5.2', 'creationdate': 'D:20070730160943', 'moddate': 'D:20070730160943', 'title': 'Microsoft Word - Document1', 'author': 'Shri', 'source': 'apjspeech.pdf', 'total_pages': 7, 'page': 0, 'page_label': '1'}, page_content='appreciated the question and said it was indeed a thoughtful question and as sured her that \\nthat her dream would be taken to the highest institution of the nation and we would work'),\n",
       " Document(metadata={'producer': 'GPL Ghostscript 8.15', 'creator': 'PScript5.dll Version 5.2', 'creationdate': 'D:20070730160943', 'moddate': 'D:20070730160943', 'title': 'Microsoft Word - Document1', 'author': 'Shri', 'source': 'apjspeech.pdf', 'total_pages': 7, 'page': 1, 'page_label': '2'}, page_content='for it to achieve before 2020. This question reflects how the desire t o live in developed \\nIndia has entered into the minds of the youth. The same feelings are  echoed by over \\nfifteen lakh youth, whom I have met so far and who represent the drea m of the 540 \\nmillion youth of the nation. The aspirations of the young to live in a prosperous, safe and \\nproud India should be the guiding factor in whatever profession we contribute. \\n \\nEmpower Villages \\nFriends, I recall my visit to Nagaland on 26th October 2002, soon after m y assuming \\noffice as President. It was a unique experience for me at Khuza ma village to meet tribal \\nvillage council members and discuss with them the village progress  and the dream of \\nvillage citizens. I was very happy to see the empowered village  council functioning with \\nfinancial powers and taking decisions. I saw a prosperous village with fruits and \\nvegetables production. However, there is a need for providing physical c onnectivity in \\nNagaland through quality roads for enabling faster movement of produ cts from villages \\nto the market. That meeting gave me a powerful message about the t ransformation which \\ncan take place to the 600,000 villages of India, if all the villages a re empowered to deal \\nwith their development and are well connected among themselves and wit h the urban \\nsocieties. \\n \\nMobilizing rural core competence for competitiveness \\nNow I would like to talk about the initiative of Periyar Maniammai  College of \\nTechnology for Women, Vallam, Tanjore of Providing Urban Amenities in Rural Areas \\n(PURA) complex involving 65 villages with a population of 3 lakhs. This inc ludes \\nprovision of three connectivities - physical, electronic and knowledge  - leading to \\neconomic connectivity. Periyar PURA has health care centers, pr imary to post graduate \\nlevel education and vocational training centers. This has resulted i n large-scale \\nemployment generation and creation of number of entrepreneurs with the  active support'),\n",
       " Document(metadata={'producer': 'GPL Ghostscript 8.15', 'creator': 'PScript5.dll Version 5.2', 'creationdate': 'D:20070730160943', 'moddate': 'D:20070730160943', 'title': 'Microsoft Word - Document1', 'author': 'Shri', 'source': 'apjspeech.pdf', 'total_pages': 7, 'page': 1, 'page_label': '2'}, page_content='employment generation and creation of number of entrepreneurs with the  active support \\nof 1000 self-help groups. Two hundred acres of waste land has been develope d into a \\ncultivable land. The villagers are busy in cultivation, planting Jatropha, herbal and \\nmedicinal plants, power generation using bio-mass, food processing and above all \\nrunning marketing centers. It provides a sustainable economic development model for the \\nwhole region. \\n \\nDuring the last eight months, people of Periyar PURA villages technologically supported \\nby Periyar Maniammai College of Engineering for Women have w orked with experts \\nfrom Japan External Trade Organisation (JETRO) on various products, for  which core \\ncompetence and raw material are available in Thanjavur district. They developed \\ninternationally competitive prototypes for 55 life style products wi th support of JETRO \\nspecialists and feedback from exhibitions at Delhi and Tokyo. This co -operative venture \\nhas enhanced the innovative ability of the people of all the 65 villages  enabling them to \\ndevelop and produce internationally acceptable products. I have seen si milar type of \\nPURA being established in many states. The whole country needs 7000 PU RA to \\nbridging the rural – urban divide. \\n \\nSeed to Food: Backbone for agricultural growth'),\n",
       " Document(metadata={'producer': 'GPL Ghostscript 8.15', 'creator': 'PScript5.dll Version 5.2', 'creationdate': 'D:20070730160943', 'moddate': 'D:20070730160943', 'title': 'Microsoft Word - Document1', 'author': 'Shri', 'source': 'apjspeech.pdf', 'total_pages': 7, 'page': 2, 'page_label': '3'}, page_content='Let me now share with you, the enriching experience I had, whil e meeting more than \\n6000 farmers from different States and Union Territories visitin g Rashtrapati Bhavan. \\nThey evinced keen interest in the Mughal Gardens, the Herbal Gardens , the Spiritual \\nGarden, the Musical Garden, the Bio-diesel garden and the Nutrition Garden and interact \\nwith the Horticultural specialists. Recently, during my address to the agricultural \\nscientists while participating in a National Symposium on “Agri culture Cannot Wait”, I \\nsummarized the many practical suggestions given by farmers. W e have to double the \\nagricultural production with reduced land, reduced water resources and re duced \\nmanpower and improve the economic conditions of the nation through the principle  of \\n“Seed to Food” since agriculture is the backbone of the nation. We should em power the \\nfarmers to protect and nurture the fertile land for second green re volution. Meeting the \\nScientists and the Farmers has given me the confidence \\nthat the nation is poised to increase the agricultural GDP growth by atleast 4% per annum \\nthrough the partnership of farmers and agricultural scientists a nd industries particularly \\nfor value addition. \\n \\nDefeat the problems and succeed \\nOn the evening of February 24, 2007, at Coimbatore, I had a very beautif ul experience. \\nAs I got ready for meeting the first person out of twenty appoint ments, a wheel chair was \\nin sight with a smiling person probably in his late fifties; unfortunately he has no hands \\nand legs. His radiant face was revealing his happy state of mi nd. He introduced himself \\nas Vidwan Coimbatore SR Krishna Murthy. I greeted him and asked him  how this had \\nhappened. He smilingly said that it was from by birth. He thanked G od, his parents, \\nteachers and many others for giving him confidence, training and he lp. I asked him, what \\nI could do for him? He said, “I don’t need anything from you. I would like to sing in fr ont'),\n",
       " Document(metadata={'producer': 'GPL Ghostscript 8.15', 'creator': 'PScript5.dll Version 5.2', 'creationdate': 'D:20070730160943', 'moddate': 'D:20070730160943', 'title': 'Microsoft Word - Document1', 'author': 'Shri', 'source': 'apjspeech.pdf', 'total_pages': 7, 'page': 2, 'page_label': '3'}, page_content='I could do for him? He said, “I don’t need anything from you. I would like to sing in fr ont \\nof you”. I readily agreed. He sang melodiously the Saint Thyagraj a’s pancha ratna kriti \\nentharo mahanubavulu in Sriragam giving me a glimpse of his talent. I was quite touched. \\nWhat is the message? Despite being physically challenged, the latent talent of music \\ncould blossom in this \\nperson with his positive attitude and perseverance, encouraged by the pa rents, teachers, \\nacademics and rasikas. Now he wants to give, give and give his art to inspire others. Of \\ncourse, by his merit of music, in July 2007, he performed in the Rashtra pati Bhavan art \\ntheatre. \\n \\nOvercome the impact of disaster through partnership \\nI had the opportunity to experience the Indomitable Spirit of the people  and children of \\nJammu & Kashmir even as they were just recovering from the de vastating earthquake in \\n2005. I visited Urusa village on 26th November 2005 which has been adopted by the  \\nWestern Air Command, Air Force for providing relief and medical aid to the residents of \\nthat area. When I went there, I found that the school building had been severely damaged. \\nI met all the school children and the village citizen of Urusa. The villagers apprised me of \\ntheir losses and had all praise for Army and Air Force role in rescue and relief operations \\nalong with state government. I appreciate the courage of the people of Urusa in defeating \\ntheir problems. They have actually become the master of the probl em rather than \\nallowing problems to become their master. Despite the severe l oss due to the earthquake,'),\n",
       " Document(metadata={'producer': 'GPL Ghostscript 8.15', 'creator': 'PScript5.dll Version 5.2', 'creationdate': 'D:20070730160943', 'moddate': 'D:20070730160943', 'title': 'Microsoft Word - Document1', 'author': 'Shri', 'source': 'apjspeech.pdf', 'total_pages': 7, 'page': 3, 'page_label': '4'}, page_content='the children and the members of the village participated in the reli ef operation with the \\nArmed Forces \\nbravely and were smiling when I went to meet them. They interact ed with me and said \\nthat the school was functional in the temporary tents. Here, I also witnessed the \\nparticipation of acting Chief Justice of Jammu & Kashmir along with State Government \\nauthorities in on-the-spot settlement of relief grants to be provide d to the victims whose \\nhouses had been damaged in the earth quake. I have experienced many s uch acts of \\ncourage from our citizens when faced with severe challenges. \\n \\nCourage in combating calamities \\nIn 2005, I met the Tribal Council Leaders, Students, Children of Chuckchucha  village \\nduring my visit to Car Nicobar Islands. While various reconstruction a nd rehabilitation \\nactivities were in progress, during the discussions with the members  of tribal council, I \\nrealized the unique trait among the Car-Nicobar islanders. Even thoug h there were many \\nhuman losses due to the Tsunami of 26 Dec 2004, the tribal islanders had  taken \\npossession of affected victims as their children and there is nothi ng like orphanage in \\nCar-Nicobar Islands. Touched by their courage, I composed few vers es called “Sea \\nWaves” which reads as follows: \\nSea Waves \\n \\nWe are the children of Sea waves, \\nSea waves are my friends. \\nWhen they become angry, \\nSea waves give the challenges. \\nGod has given the courage, \\nTo challenge the sea waves. \\nAnd we will succeed, \\nWe will succeed \\nWith Almighty’s grace. \\nAll the members who were gathered in the village sang the poem  with me and exhibited \\nlots of courage and enthusiasm even though they had gone through severe  suffering \\nduring the Tsunami. \\n \\nConnectivity for societal transformation \\nI addressed the Pan African Parliament on 16 September 2004, at Johanne sburg, South \\nAfrica. This was attended by 53 member countries of the Africa n Union, where I'),\n",
       " Document(metadata={'producer': 'GPL Ghostscript 8.15', 'creator': 'PScript5.dll Version 5.2', 'creationdate': 'D:20070730160943', 'moddate': 'D:20070730160943', 'title': 'Microsoft Word - Document1', 'author': 'Shri', 'source': 'apjspeech.pdf', 'total_pages': 7, 'page': 3, 'page_label': '4'}, page_content='Africa. This was attended by 53 member countries of the Africa n Union, where I \\nproposed the concept of Pan African e-Network for providing seamless and integrated \\nsatellite, fiber optics and wireless network connecting 53 African countries at an \\nestimated cost of US $ 100 million. \\n \\nAs part of the project 12 universities (7 from India and 5 from Afri ca), 17 Super \\nSpecialty Hospitals (12 from India and 5 from Africa), 53 tele-me dicine centers and 53 \\ntele-education centres in Africa will be connected. The pilot project on tele-education and \\ntele-medicine in Ethiopia has already been commissioned. Indira Gandh i National Open \\nUniversity has taken up the MBA Course for 34 Ethiopian students of Addis  Ababa and \\nHarmaya Universities. As regards, tele-medicine, the special ists from CARE Hospital,'),\n",
       " Document(metadata={'producer': 'GPL Ghostscript 8.15', 'creator': 'PScript5.dll Version 5.2', 'creationdate': 'D:20070730160943', 'moddate': 'D:20070730160943', 'title': 'Microsoft Word - Document1', 'author': 'Shri', 'source': 'apjspeech.pdf', 'total_pages': 7, 'page': 4, 'page_label': '5'}, page_content='Hyderabad are providing one-hour live tele-consultation to doctors in B lack Lion \\nHospital, Addis Ababa in Cardiology and Radiology since November 2006. Using the \\nPan African network the Heads of the State in all the 53 countries  will be connected for \\ninstant communication. I am extremely happy that Indian experience  in bringing the \\nbenefits of technology to the people has enabled us to work with Afric a to bring societal \\ntransformation in the African continent. \\n \\nDefending the nation: Our pride \\nI visited KUMAR in Siachen Glacier located at 17,000 feet altitude  held by the Indian \\nArmy, had a memorable underwater journey in INS Sindhurakshak and flew  in a Sukhoi-\\n30 fighter experiencing 2.5 g. In these three experiences, I personal ly felt proud of our \\never vigilant Soldiers, Sailors and Air Warriors performing their  tasks beyond the call of \\ntheir duty even in the most adverse circumstances natural and man m ade. During the last \\nfive years, I had an opportunity to present colours to many regime nts, participate in \\nnumber of passing out parades, meet the troops who were going to undertake  peace \\nmissions and interact with the family members of our Defence F orces. Our Defence \\nForces are in a beautiful mission. When the nation sleeps during night , Members of our \\nDefence teams are awake to guard us and remain vigilant to counte r any threat. The \\nNation cherishes the valour, commitment and devotion to duty of our Defenc e Forces. \\nSimilarly, I had opportunities to interact \\nwith members of our para-military forces, central and state poli ce personnel including \\ninternal security forces who are making immense contribution in au gmenting the safety \\nand security of our citizens under difficult conditions. \\n \\nYouth movement for Developed India 2020 \\nRecently, in Hyderabad, I met a group of citizens who are putting i nto practice the motto \\nof transforming of our youth into enlightened citizen. The Lead India 2020 Found ation'),\n",
       " Document(metadata={'producer': 'GPL Ghostscript 8.15', 'creator': 'PScript5.dll Version 5.2', 'creationdate': 'D:20070730160943', 'moddate': 'D:20070730160943', 'title': 'Microsoft Word - Document1', 'author': 'Shri', 'source': 'apjspeech.pdf', 'total_pages': 7, 'page': 4, 'page_label': '5'}, page_content='of transforming of our youth into enlightened citizen. The Lead India 2020 Found ation \\ncreated by Dr. N.B. Sudershan at Hyderabad is training thousands of s tudents in many \\ndistricts of Andhra Pradesh in partnership with the District Adm inistration. Particularly, I \\nhappened to know the transformation which has taken place among the students  of \\nMedak district. As per the district authorities the impact of the  training on the students is \\nvisible in terms of self-discipline, love for their parents and tea chers shedding of stage \\nfear and recognition of their duties towards the nation. I talke d to Ms. Padma, a student \\nleader from Andhra Pradesh Tribal Welfare School, Nalgonda who relat ed how she \\nweaned her father away from smoking after imbibing the spirit of  the 10 point oath from \\nthe Lead India Training Camp. This gives me an assurance that the  youth of our country \\nare on the right path \\nthrough this mission oriented programme. With the ignited minds of the  540 million \\nyouth below the age of 25, which I consider is the most powerful resour ce on the earth, \\nunder the earth and above the earth, we have to empower the youth through va lue based \\neducation and leadership. \\n \\nConclusion \\nI was touched by the variety of Indian panorama, emotional content of  the tune, cultural \\ndiversity and unity of minds in the vast land of ours. I have cited thes e examples just to \\ngive a glimpse of the richness of our tradition and effort being taken by different agencies'),\n",
       " Document(metadata={'producer': 'GPL Ghostscript 8.15', 'creator': 'PScript5.dll Version 5.2', 'creationdate': 'D:20070730160943', 'moddate': 'D:20070730160943', 'title': 'Microsoft Word - Document1', 'author': 'Shri', 'source': 'apjspeech.pdf', 'total_pages': 7, 'page': 5, 'page_label': '6'}, page_content='to preserve it. There are also many new adventures by instituti ons and individuals. I have \\nexperienced many of them and learnt a lot about my country and our peopl e. Even while \\npursuing our economic growth, we need to do a lot to preserve the rich and diverse \\ntreasures of our culture and civilization. It is our duty for our fut ure generations. This has \\nto be done in a much larger scale through countrywide participatio n of multiple \\ninstitutions. Our country is blessed with natural resources, has shown c onsiderable \\nprogress in the last sixty years, and above all we have hard wor king people particularly \\nthe power of the 540 million youth of the country. Every sector of our count ry has given \\nme the \\nconfidence that India can become a developed nation well before 2020. Whomsoeve r, I \\nmet they constantly ask what they can give to the nation. We should c onstantly strive to \\nempower such members of the society. With this spirit, I am extr emely happy that we are \\non the right path. Here I am reminded of a famous poem: \\n\"When you wish upon a star, \\nMakes no difference who you are, \\nAnything your heart desires, \\nWill come to you” \\nThis poem is true to all of us, and particularly for our youth and i f they aim great, I am \\nsure they will reach close to the target or the target. \\n \\nMy dear citizens, let us resolve to continue to work for realizing the missions of \\ndeveloped India 2020 with the following distinctive profile. \\n \\n1. A Nation where the rural and urban divide has reduced to a thin line. \\n \\n2. A Nation where there is an equitable distribution and adequate acce ss to energy and \\nquality water. \\n \\n3. A Nation where agriculture, industry and service sector work together in symphony. \\n \\n4. A Nation where education with value system is not denied to any meritorious \\ncandidates because of societal or economic discrimination. \\n \\n5. A Nation which is the best destination for the most talented s cholars, scientists, and \\ninvestors.'),\n",
       " Document(metadata={'producer': 'GPL Ghostscript 8.15', 'creator': 'PScript5.dll Version 5.2', 'creationdate': 'D:20070730160943', 'moddate': 'D:20070730160943', 'title': 'Microsoft Word - Document1', 'author': 'Shri', 'source': 'apjspeech.pdf', 'total_pages': 7, 'page': 5, 'page_label': '6'}, page_content='investors. \\n \\n6. A Nation where the best of health care is available to all. \\n \\n7. A Nation where the governance is responsive, transparent and corruption free. \\n \\n8. A Nation where poverty has been totally eradicated, illiterac y removed and crimes \\nagainst women and children are absent and none in the society feels alienated. \\n \\n9. A Nation that is prosperous, healthy, secure, peaceful and happy a nd continues with a \\nsustainable growth path.'),\n",
       " Document(metadata={'producer': 'GPL Ghostscript 8.15', 'creator': 'PScript5.dll Version 5.2', 'creationdate': 'D:20070730160943', 'moddate': 'D:20070730160943', 'title': 'Microsoft Word - Document1', 'author': 'Shri', 'source': 'apjspeech.pdf', 'total_pages': 7, 'page': 6, 'page_label': '7'}, page_content='10. A Nation that is one of the best places to live in and is proud of its leadership. \\n \\nFinally let me thank each one of you for showering your love and aff ection on me \\nthroughout the last five years by your cooperation and support. \\n \\nDear Citizens, I conclude my address by sharing with you my mission in life which is to \\nbring connectivity between billion hearts and minds of the people of Indi a in our \\nmulticultural society and to embed the self confidence that \"we c an do it\". I will be \\nalways with you, dear citizens, in the great mission of making Indi a a developed nation \\nbefore 2020. \\n \\nMay God bless you. \\n \\nJai hind. \\nDr. A. P. J. Abdul Kalam \\nwww.presidentofindia.nic.in')]"
      ]
     },
     "execution_count": 19,
     "metadata": {},
     "output_type": "execute_result"
    }
   ],
   "source": [
    "## Map Reduce Chain To Summarize Large Document\n",
    "from langchain.text_splitter import RecursiveCharacterTextSplitter\n",
    "final_documents = RecursiveCharacterTextSplitter(chunk_size=2000, chunk_overlap=100).split_documents(docs)\n",
    "final_documents"
   ]
  },
  {
   "cell_type": "code",
   "execution_count": 21,
   "id": "5e38758c",
   "metadata": {},
   "outputs": [],
   "source": [
    "chunks_prompt = \"\"\"\n",
    "Write a concise summary of the following speech chunk:\n",
    "{text}\n",
    "\"\"\"\n",
    "map_prompt_template = PromptTemplate(\n",
    "    input_variables=[\"text\"],\n",
    "    template=chunks_prompt\n",
    ")"
   ]
  },
  {
   "cell_type": "code",
   "execution_count": null,
   "id": "74c4190f",
   "metadata": {},
   "outputs": [],
   "source": [
    "final_prompt = \"\"\"\n",
    "Provide the final summary of the entire speech based on the following summaries of each chunk.\n",
    "Add a motivational title, and provide the summary in bullet points.\n",
    "\n",
    "Speech:\n",
    "{text}\n",
    "\"\"\""
   ]
  },
  {
   "cell_type": "code",
   "execution_count": null,
   "id": "0b96fc0d",
   "metadata": {},
   "outputs": [],
   "source": [
    "summary_chain = load_summarize_chain(llm, chain_type=\"map_reduce\", map_prompt=map_prompt_template, combine_prompt=prompt, verbose=True)"
   ]
  }
 ],
 "metadata": {
  "kernelspec": {
   "display_name": "Python 3",
   "language": "python",
   "name": "python3"
  },
  "language_info": {
   "codemirror_mode": {
    "name": "ipython",
    "version": 3
   },
   "file_extension": ".py",
   "mimetype": "text/x-python",
   "name": "python",
   "nbconvert_exporter": "python",
   "pygments_lexer": "ipython3",
   "version": "3.10.18"
  }
 },
 "nbformat": 4,
 "nbformat_minor": 5
}
