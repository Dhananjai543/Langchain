{
 "cells": [
  {
   "cell_type": "markdown",
   "id": "ff2acb6b",
   "metadata": {},
   "source": [
    "Simple GenAI App using Langchain and OpenAI"
   ]
  },
  {
   "cell_type": "code",
   "execution_count": null,
   "id": "820cc9e6",
   "metadata": {},
   "outputs": [],
   "source": [
    "import os\n",
    "from dotenv import load_dotenv\n",
    "load_dotenv()\n",
    "\n",
    "os.environ['OPENAI_API_KEY'] = os.getenv('OPENAI_API_KEY')\n",
    "#Langsmith Tracking\n",
    "os.environ['LANGCHAIN_API_KEY'] = os.getenv('LANGCHAIN_API_KEY')\n",
    "os.environ['LANGCHAIN_TRACING_V2'] = 'true'\n",
    "os.environ['LANGCHAIN_PROJECT'] = os.getenv('LANGCHAIN_PROJECT')"
   ]
  },
  {
   "cell_type": "code",
   "execution_count": 1,
   "id": "377f2481",
   "metadata": {},
   "outputs": [
    {
     "name": "stderr",
     "output_type": "stream",
     "text": [
      "USER_AGENT environment variable not set, consider setting it to identify your requests.\n"
     ]
    },
    {
     "data": {
      "text/plain": [
       "<langchain_community.document_loaders.web_base.WebBaseLoader at 0x1e79c2cc070>"
      ]
     },
     "execution_count": 1,
     "metadata": {},
     "output_type": "execute_result"
    }
   ],
   "source": [
    "### Data Ingestion - From the web page to scrape the data\n",
    "from langchain_community.document_loaders import WebBaseLoader\n",
    "loader = WebBaseLoader(\"https://docs.langchain.com/langsmith/set-up-a-workspace\")\n",
    "loader"
   ]
  },
  {
   "cell_type": "code",
   "execution_count": 2,
   "id": "2092721c",
   "metadata": {},
   "outputs": [
    {
     "data": {
      "text/plain": [
       "[Document(metadata={'source': 'https://docs.langchain.com/langsmith/set-up-a-workspace', 'title': 'Set up a workspace - Docs by LangChain', 'language': 'en'}, page_content='Set up a workspace - Docs by LangChainOur new LangChain Academy course on Deep Agents is now live! Enroll for free.Docs by LangChain home pagePythonSearch...⌘KLangSmithPlatform for LLM observability and evaluationSetupOverviewCreate an account and API keySet up a workspaceManage organizations using the APIManage billingSet up resource tagsUser managementAdditional resourcesFAQsCloud architecture and scalabilityRegions FAQAuthentication methodsData purging for complianceRelease versionsOur new LangChain Academy course on Deep Agents is now live! Enroll for free.Docs by LangChain home pagePythonSearch...⌘KGitHubForumForumSearch...NavigationSetupSet up a workspaceGet startedObservabilityEvaluationPrompt engineeringSelf-hostingAdministrationGet startedObservabilityEvaluationPrompt engineeringSelf-hostingAdministrationGitHubForumOn this pageSet up an organizationCreate an organizationManage and navigate workspacesManage usersOrganization rolesSet up a workspaceCreate a workspaceManage usersConfigure workspace settingsDelete a workspaceDelete a workspace via the UISetupSet up a workspaceCopy pageCopy pageThis page describes setting up and managing your LangSmith organization and workspaces:\\n\\nSet up an organization: Create and manage organizations for team collaboration, including user management and role assignments.\\nSet up a workspace: Set up and configure workspaces to organize your LangSmith resources, manage workspace members, and configure settings for team collaboration.\\n\\nYou may find it helpful to refer to the overview on LangSmith resource hierarchy before you read this setup page.\\n\\u200bSet up an organization\\nIf you’re interested in managing your organization and workspaces programmatically, see this how-to guide.\\n\\u200bCreate an organization\\nWhen you log in for the first time, LangSmith will create a personal organization for you automatically. If you’d like to collaborate with others, you can create a separate organization and invite your team members to join.\\nTo do this, open the Organizations drawer by clicking your profile icon in the bottom left and click + New. Shared organizations require a credit card before they can be used. You will need to set up billing to proceed.\\n\\u200bManage and navigate workspaces\\nOnce you’ve subscribed to a plan that allows for multiple users per organization, you can set up workspaces to collaborate more effectively and isolate LangSmith resources between different groups of users. To navigate between workspaces and access the resources within each workspace (trace projects, annotation queues, etc.), select the desired workspace from the picker in the top left:\\n\\n\\u200bManage users\\nManage membership in your shared organization in the Members and roles tabs on the Settings page. Here you can:\\n\\nInvite new users to your organization, selecting workspace membership and (if RBAC is enabled) workspace role.\\nEdit a user’s organization role.\\nRemove users from your organization.\\n\\n\\nOrganizations on the Enterprise plan may set up custom workspace roles in the Roles tab. For more details, refer to the access control setup guide.\\n\\u200bOrganization roles\\nOrganization-scoped roles are used to determine access to organization settings. The role selected also impacts workspace membership:\\n\\nOrganization Admin grants full access to manage all organization configuration, users, billing, and workspaces. Any Organization Admin has Admin access to all workspaces in an organization.\\n\\n\\nOrganization User may read organization information, but cannot execute any write actions at the organization level. You can add an Organization User to a subset of workspaces and assigned workspace roles as usual (if RBAC is enabled), which specify permissions at the workspace level.\\n\\nThe Organization User role is only available in organizations on plans with multiple workspaces. In organizations limited to a single workspace, all users are Organization Admins. Custom organization-scoped roles are not available.\\nFor a full list of permissions associated with each role, refer to the Administration overview page.\\n\\u200bSet up a workspace\\nWhen you log in for the first time, a default workspace will be created for you in your personal organization. Workspaces are often used to separate resources between different teams or business units to establish clear trust boundaries between them. Within each workspace, Role-Based Access Control (RBAC) manages permissions and access levels, which ensures that users only have access to the resources and settings necessary for their role. Most LangSmith activity happens in the context of a workspace, each of which has its own settings and access controls.\\nTo organize resources within a workspace, you can use resource tags.\\n\\u200bCreate a workspace\\nTo create a new workspace, navigate to the Settings page Workspaces tab in your shared organization and click Add Workspace. Once you have created your workspace, you can manage its members and other configuration by selecting it on this page.\\n\\nDifferent plans have different limits placed on the number of workspaces that can be used in an organization. For more information, refer to the pricing page.\\n\\u200bManage users\\nOnly workspace Admins can manage workspace membership and, if RBAC is enabled, change a user’s workspace role.\\nFor users that are already members of an organization, a workspace Admin may add them to a workspace in the Workspace members tab under Workspaces settings page. Users may also be invited directly to one or more workspaces when they are invited to an organization.\\n\\u200bConfigure workspace settings\\nWorkspace configuration exists in the Workspaces settings page tab. Select the workspace to configure and then the desired configuration sub-tab. The following example shows the API keys, and other configuration options including secrets, models, and shared URLs are available here as well.\\n\\n\\u200bDelete a workspace\\nDeleting a workspace will permanently delete the workspace and all associated data. This action cannot be undone.\\nYou can delete a workspace through the LangSmith UI or via API. You must be a workspace Admin in order to delete a workspace.\\n\\u200bDelete a workspace via the UI\\n\\nNavigate to Settings.\\nSelect the workspace you want to delete.\\nClick Delete in the top-right corner of the screen.\\n\\nWas this page helpful?YesNoCreate an account and API keyManage organizations using the APIAssistantResponses are generated using AI and may contain mistakes.Docs by LangChain home pagegithubxlinkedinyoutubeResourcesChangelogLangChain AcademyTrust CenterCompanyAboutCareersBloggithubxlinkedinyoutubePowered by Mintlify')]"
      ]
     },
     "execution_count": 2,
     "metadata": {},
     "output_type": "execute_result"
    }
   ],
   "source": [
    "docs = loader.load()\n",
    "docs"
   ]
  },
  {
   "cell_type": "code",
   "execution_count": 3,
   "id": "47df63fe",
   "metadata": {},
   "outputs": [
    {
     "data": {
      "text/plain": [
       "[Document(metadata={'source': 'https://docs.langchain.com/langsmith/set-up-a-workspace', 'title': 'Set up a workspace - Docs by LangChain', 'language': 'en'}, page_content='Set up a workspace - Docs by LangChainOur new LangChain Academy course on Deep Agents is now live! Enroll for free.Docs by LangChain home pagePythonSearch...⌘KLangSmithPlatform for LLM observability and evaluationSetupOverviewCreate an account and API keySet up a workspaceManage organizations using the APIManage billingSet up resource tagsUser managementAdditional resourcesFAQsCloud architecture and scalabilityRegions FAQAuthentication methodsData purging for complianceRelease versionsOur new LangChain Academy course on Deep Agents is now live! Enroll for free.Docs by LangChain home pagePythonSearch...⌘KGitHubForumForumSearch...NavigationSetupSet up a workspaceGet startedObservabilityEvaluationPrompt engineeringSelf-hostingAdministrationGet startedObservabilityEvaluationPrompt engineeringSelf-hostingAdministrationGitHubForumOn this pageSet up an organizationCreate an organizationManage and navigate workspacesManage usersOrganization rolesSet up a workspaceCreate a workspaceManage'),\n",
       " Document(metadata={'source': 'https://docs.langchain.com/langsmith/set-up-a-workspace', 'title': 'Set up a workspace - Docs by LangChain', 'language': 'en'}, page_content='this pageSet up an organizationCreate an organizationManage and navigate workspacesManage usersOrganization rolesSet up a workspaceCreate a workspaceManage usersConfigure workspace settingsDelete a workspaceDelete a workspace via the UISetupSet up a workspaceCopy pageCopy pageThis page describes setting up and managing your LangSmith organization and workspaces:'),\n",
       " Document(metadata={'source': 'https://docs.langchain.com/langsmith/set-up-a-workspace', 'title': 'Set up a workspace - Docs by LangChain', 'language': 'en'}, page_content='Set up an organization: Create and manage organizations for team collaboration, including user management and role assignments.\\nSet up a workspace: Set up and configure workspaces to organize your LangSmith resources, manage workspace members, and configure settings for team collaboration.'),\n",
       " Document(metadata={'source': 'https://docs.langchain.com/langsmith/set-up-a-workspace', 'title': 'Set up a workspace - Docs by LangChain', 'language': 'en'}, page_content='You may find it helpful to refer to the overview on LangSmith resource hierarchy before you read this setup page.\\n\\u200bSet up an organization\\nIf you’re interested in managing your organization and workspaces programmatically, see this how-to guide.\\n\\u200bCreate an organization\\nWhen you log in for the first time, LangSmith will create a personal organization for you automatically. If you’d like to collaborate with others, you can create a separate organization and invite your team members to join.\\nTo do this, open the Organizations drawer by clicking your profile icon in the bottom left and click + New. Shared organizations require a credit card before they can be used. You will need to set up billing to proceed.\\n\\u200bManage and navigate workspaces'),\n",
       " Document(metadata={'source': 'https://docs.langchain.com/langsmith/set-up-a-workspace', 'title': 'Set up a workspace - Docs by LangChain', 'language': 'en'}, page_content='\\u200bManage and navigate workspaces\\nOnce you’ve subscribed to a plan that allows for multiple users per organization, you can set up workspaces to collaborate more effectively and isolate LangSmith resources between different groups of users. To navigate between workspaces and access the resources within each workspace (trace projects, annotation queues, etc.), select the desired workspace from the picker in the top left:'),\n",
       " Document(metadata={'source': 'https://docs.langchain.com/langsmith/set-up-a-workspace', 'title': 'Set up a workspace - Docs by LangChain', 'language': 'en'}, page_content='\\u200bManage users\\nManage membership in your shared organization in the Members and roles tabs on the Settings page. Here you can:\\n\\nInvite new users to your organization, selecting workspace membership and (if RBAC is enabled) workspace role.\\nEdit a user’s organization role.\\nRemove users from your organization.\\n\\n\\nOrganizations on the Enterprise plan may set up custom workspace roles in the Roles tab. For more details, refer to the access control setup guide.\\n\\u200bOrganization roles\\nOrganization-scoped roles are used to determine access to organization settings. The role selected also impacts workspace membership:\\n\\nOrganization Admin grants full access to manage all organization configuration, users, billing, and workspaces. Any Organization Admin has Admin access to all workspaces in an organization.'),\n",
       " Document(metadata={'source': 'https://docs.langchain.com/langsmith/set-up-a-workspace', 'title': 'Set up a workspace - Docs by LangChain', 'language': 'en'}, page_content='Organization Admin grants full access to manage all organization configuration, users, billing, and workspaces. Any Organization Admin has Admin access to all workspaces in an organization.\\n\\n\\nOrganization User may read organization information, but cannot execute any write actions at the organization level. You can add an Organization User to a subset of workspaces and assigned workspace roles as usual (if RBAC is enabled), which specify permissions at the workspace level.'),\n",
       " Document(metadata={'source': 'https://docs.langchain.com/langsmith/set-up-a-workspace', 'title': 'Set up a workspace - Docs by LangChain', 'language': 'en'}, page_content='The Organization User role is only available in organizations on plans with multiple workspaces. In organizations limited to a single workspace, all users are Organization Admins. Custom organization-scoped roles are not available.\\nFor a full list of permissions associated with each role, refer to the Administration overview page.\\n\\u200bSet up a workspace\\nWhen you log in for the first time, a default workspace will be created for you in your personal organization. Workspaces are often used to separate resources between different teams or business units to establish clear trust boundaries between them. Within each workspace, Role-Based Access Control (RBAC) manages permissions and access levels, which ensures that users only have access to the resources and settings necessary for their role. Most LangSmith activity happens in the context of a workspace, each of which has its own settings and access controls.\\nTo organize resources within a workspace, you can use resource tags.'),\n",
       " Document(metadata={'source': 'https://docs.langchain.com/langsmith/set-up-a-workspace', 'title': 'Set up a workspace - Docs by LangChain', 'language': 'en'}, page_content='To organize resources within a workspace, you can use resource tags.\\n\\u200bCreate a workspace\\nTo create a new workspace, navigate to the Settings page Workspaces tab in your shared organization and click Add Workspace. Once you have created your workspace, you can manage its members and other configuration by selecting it on this page.'),\n",
       " Document(metadata={'source': 'https://docs.langchain.com/langsmith/set-up-a-workspace', 'title': 'Set up a workspace - Docs by LangChain', 'language': 'en'}, page_content='Different plans have different limits placed on the number of workspaces that can be used in an organization. For more information, refer to the pricing page.\\n\\u200bManage users\\nOnly workspace Admins can manage workspace membership and, if RBAC is enabled, change a user’s workspace role.\\nFor users that are already members of an organization, a workspace Admin may add them to a workspace in the Workspace members tab under Workspaces settings page. Users may also be invited directly to one or more workspaces when they are invited to an organization.\\n\\u200bConfigure workspace settings\\nWorkspace configuration exists in the Workspaces settings page tab. Select the workspace to configure and then the desired configuration sub-tab. The following example shows the API keys, and other configuration options including secrets, models, and shared URLs are available here as well.'),\n",
       " Document(metadata={'source': 'https://docs.langchain.com/langsmith/set-up-a-workspace', 'title': 'Set up a workspace - Docs by LangChain', 'language': 'en'}, page_content='\\u200bDelete a workspace\\nDeleting a workspace will permanently delete the workspace and all associated data. This action cannot be undone.\\nYou can delete a workspace through the LangSmith UI or via API. You must be a workspace Admin in order to delete a workspace.\\n\\u200bDelete a workspace via the UI\\n\\nNavigate to Settings.\\nSelect the workspace you want to delete.\\nClick Delete in the top-right corner of the screen.\\n\\nWas this page helpful?YesNoCreate an account and API keyManage organizations using the APIAssistantResponses are generated using AI and may contain mistakes.Docs by LangChain home pagegithubxlinkedinyoutubeResourcesChangelogLangChain AcademyTrust CenterCompanyAboutCareersBloggithubxlinkedinyoutubePowered by Mintlify')]"
      ]
     },
     "execution_count": 3,
     "metadata": {},
     "output_type": "execute_result"
    }
   ],
   "source": [
    "##  Divide text into chunks\n",
    "from langchain_text_splitters import RecursiveCharacterTextSplitter\n",
    "text_splitter = RecursiveCharacterTextSplitter(chunk_size=1000, chunk_overlap=200)\n",
    "\n",
    "documents = text_splitter.split_documents(docs)\n",
    "documents"
   ]
  },
  {
   "cell_type": "code",
   "execution_count": 4,
   "id": "38112ea2",
   "metadata": {},
   "outputs": [],
   "source": [
    "# Embeddings\n",
    "from langchain_openai import OpenAIEmbeddings\n",
    "embeddings = OpenAIEmbeddings()\n"
   ]
  },
  {
   "cell_type": "code",
   "execution_count": 5,
   "id": "a574db9b",
   "metadata": {},
   "outputs": [],
   "source": [
    "from langchain_community.vectorstores import FAISS\n",
    "db = FAISS.from_documents(documents, embeddings)"
   ]
  },
  {
   "cell_type": "code",
   "execution_count": null,
   "id": "ea4d53bd",
   "metadata": {},
   "outputs": [
    {
     "data": {
      "text/plain": [
       "'\\u200bDelete a workspace\\nDeleting a workspace will permanently delete the workspace and all associated data. This action cannot be undone.\\nYou can delete a workspace through the LangSmith UI or via API. You must be a workspace Admin in order to delete a workspace.\\n\\u200bDelete a workspace via the UI\\n\\nNavigate to Settings.\\nSelect the workspace you want to delete.\\nClick Delete in the top-right corner of the screen.\\n\\nWas this page helpful?YesNoCreate an account and API keyManage organizations using the APIAssistantResponses are generated using AI and may contain mistakes.Docs by LangChain home pagegithubxlinkedinyoutubeResourcesChangelogLangChain AcademyTrust CenterCompanyAboutCareersBloggithubxlinkedinyoutubePowered by Mintlify'"
      ]
     },
     "execution_count": 6,
     "metadata": {},
     "output_type": "execute_result"
    }
   ],
   "source": [
    "#Query from a vector store db\n",
    "\n",
    "query = \"How to delete a workspace?\"\n",
    "result = db.similarity_search(query)\n",
    "result[0].page_content"
   ]
  },
  {
   "cell_type": "code",
   "execution_count": 7,
   "id": "d8f4e07a",
   "metadata": {},
   "outputs": [],
   "source": [
    "#Create llm\n",
    "from langchain_openai import ChatOpenAI\n",
    "llm = ChatOpenAI(model_name=\"gpt-4o\")"
   ]
  },
  {
   "cell_type": "code",
   "execution_count": 8,
   "id": "e414bb2a",
   "metadata": {},
   "outputs": [
    {
     "data": {
      "text/plain": [
       "RunnableBinding(bound=RunnableBinding(bound=RunnableAssign(mapper={\n",
       "  context: RunnableLambda(format_docs)\n",
       "}), kwargs={}, config={'run_name': 'format_inputs'}, config_factories=[])\n",
       "| ChatPromptTemplate(input_variables=['context'], input_types={}, partial_variables={}, messages=[HumanMessagePromptTemplate(prompt=PromptTemplate(input_variables=['context'], input_types={}, partial_variables={}, template='\\n    Answer the following question based only on the provided context:\\n    <context>\\n    {context}\\n    </context>\\n    '), additional_kwargs={})])\n",
       "| ChatOpenAI(client=<openai.resources.chat.completions.completions.Completions object at 0x000001E7B0768B20>, async_client=<openai.resources.chat.completions.completions.AsyncCompletions object at 0x000001E7B0769870>, root_client=<openai.OpenAI object at 0x000001E7B076A890>, root_async_client=<openai.AsyncOpenAI object at 0x000001E7B0769210>, model_name='gpt-4o', model_kwargs={}, openai_api_key=SecretStr('**********'))\n",
       "| StrOutputParser(), kwargs={}, config={'run_name': 'stuff_documents_chain'}, config_factories=[])"
      ]
     },
     "execution_count": 8,
     "metadata": {},
     "output_type": "execute_result"
    }
   ],
   "source": [
    "#Retrieval chain - ask question by providing context\n",
    "from langchain.chains.combine_documents import create_stuff_documents_chain\n",
    "from langchain_core.prompts import ChatPromptTemplate\n",
    "\n",
    "prompt = ChatPromptTemplate.from_template(\n",
    "    \"\"\"\n",
    "    Answer the following question based only on the provided context:\n",
    "    <context>\n",
    "    {context}\n",
    "    </context>\n",
    "    \"\"\"\n",
    ")\n",
    "\n",
    "document_chain = create_stuff_documents_chain(llm, prompt)\n",
    "document_chain"
   ]
  },
  {
   "cell_type": "code",
   "execution_count": 10,
   "id": "ac1700db",
   "metadata": {},
   "outputs": [
    {
     "data": {
      "text/plain": [
       "'To delete a workspace through the LangSmith UI or via API, you must be a workspace Admin.'"
      ]
     },
     "execution_count": 10,
     "metadata": {},
     "output_type": "execute_result"
    }
   ],
   "source": [
    "from langchain_core.documents import Document\n",
    "\n",
    "document_chain.invoke({\n",
    "    \"input\" : \"How to delete a workspace?\",\n",
    "    \"context\" : [Document(page_content=\"You can delete a workspace through the LangSmith UI or via API. You must be a workspace Admin in order to delete a workspace.\")]\n",
    "})"
   ]
  },
  {
   "cell_type": "markdown",
   "id": "fe384e2e",
   "metadata": {},
   "source": [
    "However we want the documents to forst come from the retriever we just set up. That way, we can use the retriever to dynamically select the most relevant documents and pass those in for a given question"
   ]
  },
  {
   "cell_type": "code",
   "execution_count": 11,
   "id": "0619dc3d",
   "metadata": {},
   "outputs": [],
   "source": [
    "# Retriever = can be considered as an interface, if anybody asks a question, it will go to the vector store and get the relevant documents\n",
    "\n",
    "retriever = db.as_retriever()\n",
    "\n",
    "from langchain.chains import create_retrieval_chain\n",
    "retrieval_chain = create_retrieval_chain(retriever, document_chain)\n"
   ]
  },
  {
   "cell_type": "code",
   "execution_count": 12,
   "id": "d58aeec1",
   "metadata": {},
   "outputs": [
    {
     "data": {
      "text/plain": [
       "'What is required to delete a workspace, and what steps must be taken via the UI according to the provided context? \\n\\nTo delete a workspace, you must be a workspace Admin. Here are the steps to delete a workspace via the UI:\\n\\n1. Navigate to Settings.\\n2. Select the workspace you want to delete.\\n3. Click Delete in the top-right corner of the screen. \\n\\nNote that deleting a workspace is a permanent action and cannot be undone.'"
      ]
     },
     "execution_count": 12,
     "metadata": {},
     "output_type": "execute_result"
    }
   ],
   "source": [
    "# Get the response from the LLM\n",
    "response = retrieval_chain.invoke({\n",
    "    \"input\" : \"How to delete a workspace?\"\n",
    "})\n",
    "\n",
    "response['answer']"
   ]
  }
 ],
 "metadata": {
  "kernelspec": {
   "display_name": "Python 3",
   "language": "python",
   "name": "python3"
  },
  "language_info": {
   "codemirror_mode": {
    "name": "ipython",
    "version": 3
   },
   "file_extension": ".py",
   "mimetype": "text/x-python",
   "name": "python",
   "nbconvert_exporter": "python",
   "pygments_lexer": "ipython3",
   "version": "3.10.18"
  }
 },
 "nbformat": 4,
 "nbformat_minor": 5
}
